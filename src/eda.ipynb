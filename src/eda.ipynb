{
  "cells": [
    {
      "cell_type": "markdown",
      "metadata": {
        "colab_type": "text",
        "id": "view-in-github"
      },
      "source": [
        "<a href=\"https://colab.research.google.com/github/Claudio9701/pythonAnalyticsBootcamp/blob/master/src/eda.ipynb\" target=\"_parent\"><img src=\"https://colab.research.google.com/assets/colab-badge.svg\" alt=\"Open In Colab\"/></a>"
      ]
    },
    {
      "cell_type": "markdown",
      "metadata": {
        "id": "kk8nfzd19ErA"
      },
      "source": [
        "Probando uso de notebooks dentro de una repo de GH en Googla Colab 👍🏽"
      ]
    },
    {
      "cell_type": "code",
      "execution_count": 1,
      "metadata": {
        "id": "46kPMAwy9A0o"
      },
      "outputs": [],
      "source": [
        "import datetime # Tipo de dato para fechas y horas\n",
        "import pandas as pd # Manejo de datos tabulados\n",
        "import numpy as np # Algebra Lineal y operaciones matematicas\n",
        "import matplotlib.pyplot as plt # Graficos de datos\n",
        "import seaborn as sns # Graficos estadisticos\n",
        "import pandas_profiling as ppr # ?????????\n",
        "import geopandas as gpd # Pandas para datos geograficos (Mapas!!)\n",
        "from fitter import Fitter # Ajuste de distribuciones de probs"
      ]
    },
    {
      "cell_type": "code",
      "execution_count": 2,
      "metadata": {
        "id": "5HLLDVEU9A0k"
      },
      "outputs": [],
      "source": [
        "%matplotlib inline"
      ]
    },
    {
      "cell_type": "code",
      "execution_count": 3,
      "metadata": {
        "id": "snQ9UpV49A0p"
      },
      "outputs": [],
      "source": [
        "sns.set_theme(style=\"whitegrid\")"
      ]
    },
    {
      "cell_type": "code",
      "execution_count": 4,
      "metadata": {
        "id": "zC9JIXt_9A0q"
      },
      "outputs": [],
      "source": [
        "# Leemos los datos seleccionados\n",
        "df_main = pd.read_csv('../data/TB_HOSP_VAC_FALLECIDOS.csv')\n",
        "df_oxigen = pd.read_csv('../data/Oxigeno_25-10-2021.csv', sep=\"|\")\n",
        "df_camas = pd.read_csv('../data/Camas-08_03_2022.csv', sep=\"|\")"
      ]
    },
    {
      "cell_type": "code",
      "execution_count": 5,
      "metadata": {
        "id": "_skE7RUU9A0q"
      },
      "outputs": [
        {
          "data": {
            "text/plain": [
              "(135958, 136422)"
            ]
          },
          "execution_count": 5,
          "metadata": {},
          "output_type": "execute_result"
        }
      ],
      "source": [
        "# Validar integridad del identificador \"único\"\n",
        "len(df_main['id_persona'].unique()), df_main.shape[0]"
      ]
    },
    {
      "cell_type": "code",
      "execution_count": 6,
      "metadata": {
        "id": "Kj8YeRMD9A0r",
        "outputId": "044a7198-f56f-4012-a688-b981e7fdd1f4"
      },
      "outputs": [
        {
          "data": {
            "text/plain": [
              "0"
            ]
          },
          "execution_count": 6,
          "metadata": {},
          "output_type": "execute_result"
        }
      ],
      "source": [
        "# Nulos en id_persona\n",
        "df_main['id_persona'].isna().sum()"
      ]
    },
    {
      "cell_type": "code",
      "execution_count": 7,
      "metadata": {
        "id": "-GGqltSP9A0u",
        "outputId": "a1d6a6ee-fe8f-492f-e5cf-ebdf5b59ad2f"
      },
      "outputs": [
        {
          "data": {
            "text/plain": [
              "26422634    3\n",
              "6054506     3\n",
              "29048330    3\n",
              "3820273     2\n",
              "9985143     2\n",
              "Name: id_persona, dtype: int64"
            ]
          },
          "execution_count": 7,
          "metadata": {},
          "output_type": "execute_result"
        }
      ],
      "source": [
        "# Conteo de cuantas veces se duplican los id_persona\n",
        "filtro_duplicados = df_main['id_persona'].duplicated(keep=False)\n",
        "df_main[filtro_duplicados]['id_persona'].value_counts().head()"
      ]
    },
    {
      "cell_type": "code",
      "execution_count": 8,
      "metadata": {
        "id": "BYbxDoTu9A0v"
      },
      "outputs": [],
      "source": [
        "# TODO: Crear variable si fue reinfeccion (0, 1)\n",
        "# TODO: Crear variable con el # de la reinfeccion (1, 2, etc)"
      ]
    },
    {
      "cell_type": "code",
      "execution_count": 9,
      "metadata": {
        "id": "DX1r3QIQ9A0v",
        "outputId": "50f84ce3-cd4e-43c1-dd44-08218f0de4f9"
      },
      "outputs": [
        {
          "name": "stdout",
          "output_type": "stream",
          "text": [
            "7843\n",
            "5.75 %\n"
          ]
        }
      ],
      "source": [
        "# Numero de valores perdidos / missings\n",
        "edad_na_count = df_main['edad'].isna().sum()\n",
        "print(edad_na_count)\n",
        "print(round(edad_na_count / df_main.shape[0] * 100, 2), '%')"
      ]
    },
    {
      "cell_type": "code",
      "execution_count": 10,
      "metadata": {
        "id": "8Dz7oZpd9A0x",
        "outputId": "06783ffd-0afe-44dd-cb3f-6342539022c6"
      },
      "outputs": [
        {
          "data": {
            "image/png": "[encoded data removed]",
            "text/plain": [
              "<Figure size 432x288 with 1 Axes>"
            ]
          },
          "metadata": {},
          "output_type": "display_data"
        }
      ],
      "source": [
        "df_main['edad'].hist()\n",
        "plt.show()"
      ]
    },
    {
      "cell_type": "code",
      "execution_count": 11,
      "metadata": {
        "id": "G9N8o_Qq9A0y",
        "outputId": "5f62c1ea-97e3-4871-dcf4-b6615f39b715"
      },
      "outputs": [
        {
          "data": {
            "text/plain": [
              "count    128579.000000\n",
              "mean         52.179446\n",
              "std          20.436026\n",
              "min           0.000000\n",
              "25%          37.000000\n",
              "50%          54.000000\n",
              "75%          68.000000\n",
              "max         111.000000\n",
              "Name: edad, dtype: float64"
            ]
          },
          "execution_count": 11,
          "metadata": {},
          "output_type": "execute_result"
        }
      ],
      "source": [
        "df_main['edad'].describe()"
      ]
    },
    {
      "cell_type": "code",
      "execution_count": 12,
      "metadata": {
        "id": "fcgTSZdv9A0y",
        "outputId": "1dd5ada7-bcfc-4870-f6e1-713e46807f29"
      },
      "outputs": [
        {
          "data": {
            "text/plain": [
              "array([  0.        ,  15.85714286,  31.71428571,  47.57142857,\n",
              "        63.42857143,  79.28571429,  95.14285714, 111.        ])"
            ]
          },
          "execution_count": 12,
          "metadata": {},
          "output_type": "execute_result"
        }
      ],
      "source": [
        "counts, bins = np.histogram(df_main['edad'].dropna().values, bins=7)\n",
        "bins"
      ]
    },
    {
      "cell_type": "code",
      "execution_count": 13,
      "metadata": {
        "id": "xvE0uAM09A0z"
      },
      "outputs": [],
      "source": [
        "rangos_edad = [0, 5, 13, 18, 25, 40, 55, 65, 80, 95, 112]\n",
        "edad_bins = pd.cut(df_main['edad'], bins=rangos_edad)\n",
        "\n",
        "edad_bins_count = edad_bins.value_counts()"
      ]
    },
    {
      "cell_type": "code",
      "execution_count": 14,
      "metadata": {
        "id": "h_9m04la9A0z",
        "outputId": "e8cb4a5a-0f69-4e20-b509-3faa6d692e78"
      },
      "outputs": [
        {
          "data": {
            "text/plain": [
              "(40, 55]     29595\n",
              "(65, 80]     26201\n",
              "(25, 40]     25404\n",
              "(55, 65]     23376\n",
              "(80, 95]      9954\n",
              "(18, 25]      7492\n",
              "(5, 13]       2197\n",
              "(13, 18]      1938\n",
              "(0, 5]        1926\n",
              "(95, 112]      451\n",
              "Name: edad, dtype: int64"
            ]
          },
          "execution_count": 14,
          "metadata": {},
          "output_type": "execute_result"
        }
      ],
      "source": [
        "edad_bins_count"
      ]
    },
    {
      "cell_type": "code",
      "execution_count": 15,
      "metadata": {
        "id": "dcUCxfk89A00",
        "outputId": "59ce9785-0625-4162-8962-1b2b4ca1d888"
      },
      "outputs": [
        {
          "data": {
            "text/plain": [
              "<AxesSubplot:>"
            ]
          },
          "execution_count": 15,
          "metadata": {},
          "output_type": "execute_result"
        },
        {
          "data": {
            "image/png": "[encoded data removed]",
            "text/plain": [
              "<Figure size 432x288 with 1 Axes>"
            ]
          },
          "metadata": {},
          "output_type": "display_data"
        }
      ],
      "source": [
        "edad_bins_count.sort_index().plot(kind='bar')"
      ]
    },
    {
      "cell_type": "code",
      "execution_count": 16,
      "metadata": {
        "id": "PLJEUYPQ9A01"
      },
      "outputs": [],
      "source": [
        "df_main['edad_bins'] = edad_bins"
      ]
    },
    {
      "cell_type": "code",
      "execution_count": 17,
      "metadata": {
        "id": "dJ_0FTI79A01",
        "outputId": "f9a6dc2f-8ff3-4010-fd03-df984f9dd7dd"
      },
      "outputs": [
        {
          "data": {
            "text/plain": [
              "(6840, 0.05013854070457844)"
            ]
          },
          "execution_count": 17,
          "metadata": {},
          "output_type": "execute_result"
        }
      ],
      "source": [
        "# Valores perdidos / missings\n",
        "df_main['sexo'].isna().sum(), df_main['sexo'].isna().sum() / df_main.shape[0]"
      ]
    },
    {
      "cell_type": "code",
      "execution_count": 18,
      "metadata": {
        "id": "Gv4k0oWw9A02",
        "outputId": "43f85822-032b-4678-9925-740c57898244"
      },
      "outputs": [
        {
          "data": {
            "text/plain": [
              "(M    69149\n",
              " F    60433\n",
              " Name: sexo, dtype: int64,\n",
              " M    0.533631\n",
              " F    0.466369\n",
              " Name: sexo, dtype: float64)"
            ]
          },
          "execution_count": 18,
          "metadata": {},
          "output_type": "execute_result"
        }
      ],
      "source": [
        "df_main['sexo'].value_counts(), df_main['sexo'].value_counts(normalize=True)"
      ]
    },
    {
      "cell_type": "code",
      "execution_count": 19,
      "metadata": {
        "id": "fjjKgE0k9A03",
        "outputId": "d72b7561-103d-454a-faa5-d7785fc801a7"
      },
      "outputs": [
        {
          "data": {
            "text/html": [
              "<div>\n",
              "<style scoped>\n",
              "    .dataframe tbody tr th:only-of-type {\n",
              "        vertical-align: middle;\n",
              "    }\n",
              "\n",
              "    .dataframe tbody tr th {\n",
              "        vertical-align: top;\n",
              "    }\n",
              "\n",
              "    .dataframe thead th {\n",
              "        text-align: right;\n",
              "    }\n",
              "</style>\n",
              "<table border=\"1\" class=\"dataframe\">\n",
              "  <thead>\n",
              "    <tr style=\"text-align: right;\">\n",
              "      <th></th>\n",
              "      <th>edad_bins</th>\n",
              "      <th>sexo</th>\n",
              "      <th>conteo</th>\n",
              "    </tr>\n",
              "  </thead>\n",
              "  <tbody>\n",
              "    <tr>\n",
              "      <th>0</th>\n",
              "      <td>(0, 5]</td>\n",
              "      <td>F</td>\n",
              "      <td>850</td>\n",
              "    </tr>\n",
              "    <tr>\n",
              "      <th>1</th>\n",
              "      <td>(0, 5]</td>\n",
              "      <td>M</td>\n",
              "      <td>1076</td>\n",
              "    </tr>\n",
              "    <tr>\n",
              "      <th>2</th>\n",
              "      <td>(5, 13]</td>\n",
              "      <td>F</td>\n",
              "      <td>927</td>\n",
              "    </tr>\n",
              "    <tr>\n",
              "      <th>3</th>\n",
              "      <td>(5, 13]</td>\n",
              "      <td>M</td>\n",
              "      <td>1270</td>\n",
              "    </tr>\n",
              "    <tr>\n",
              "      <th>4</th>\n",
              "      <td>(13, 18]</td>\n",
              "      <td>F</td>\n",
              "      <td>1310</td>\n",
              "    </tr>\n",
              "  </tbody>\n",
              "</table>\n",
              "</div>"
            ],
            "text/plain": [
              "  edad_bins sexo  conteo\n",
              "0    (0, 5]    F     850\n",
              "1    (0, 5]    M    1076\n",
              "2   (5, 13]    F     927\n",
              "3   (5, 13]    M    1270\n",
              "4  (13, 18]    F    1310"
            ]
          },
          "execution_count": 19,
          "metadata": {},
          "output_type": "execute_result"
        }
      ],
      "source": [
        "conteo_edad_x_sexo = (df_main[['edad_bins', 'sexo']].dropna() # Seleccion de columna y elimino NaNs\n",
        "                      .groupby(['edad_bins', 'sexo']).size() # Agrupo y cuento las obs. por intervalo de edad y sexo \n",
        "                      .reset_index() # Convierte a df \n",
        "                      .rename({0: 'conteo'}, axis=1)) # Cambia el nombre de \"0\" a \"conteo\"\n",
        "conteo_edad_x_sexo.head()"
      ]
    },
    {
      "cell_type": "code",
      "execution_count": 20,
      "metadata": {
        "id": "JaqGZY8E9A04",
        "outputId": "d3d515e4-9433-40dc-f15c-8dd82653ca29"
      },
      "outputs": [
        {
          "data": {
            "image/png": "[encoded data removed]",
            "text/plain": [
              "<Figure size 408.85x360 with 1 Axes>"
            ]
          },
          "metadata": {},
          "output_type": "display_data"
        }
      ],
      "source": [
        "# Gráfica de barras de cantidad de personas por intervalo de edad en cada género\n",
        "g = sns.catplot(\n",
        "    data=conteo_edad_x_sexo, kind=\"bar\",\n",
        "    x=\"edad_bins\", y=\"conteo\", hue=\"sexo\",\n",
        ")\n",
        "g.set_xticklabels(rotation=90)\n",
        "plt.show()"
      ]
    },
    {
      "cell_type": "code",
      "execution_count": 21,
      "metadata": {
        "id": "jHt7Y84z9A05",
        "outputId": "d7487ef8-ed9b-419b-d0b5-93dc836ebacf"
      },
      "outputs": [
        {
          "data": {
            "text/html": [
              "<div>\n",
              "<style scoped>\n",
              "    .dataframe tbody tr th:only-of-type {\n",
              "        vertical-align: middle;\n",
              "    }\n",
              "\n",
              "    .dataframe tbody tr th {\n",
              "        vertical-align: top;\n",
              "    }\n",
              "\n",
              "    .dataframe thead th {\n",
              "        text-align: right;\n",
              "    }\n",
              "</style>\n",
              "<table border=\"1\" class=\"dataframe\">\n",
              "  <thead>\n",
              "    <tr style=\"text-align: right;\">\n",
              "      <th></th>\n",
              "      <th>ubigeo_inei_domicilio</th>\n",
              "      <th>dep_domicilio</th>\n",
              "      <th>prov_domicilio</th>\n",
              "      <th>dist_domicilio</th>\n",
              "    </tr>\n",
              "  </thead>\n",
              "  <tbody>\n",
              "    <tr>\n",
              "      <th>0</th>\n",
              "      <td>80101</td>\n",
              "      <td>CUSCO</td>\n",
              "      <td>CUSCO</td>\n",
              "      <td>CUSCO</td>\n",
              "    </tr>\n",
              "    <tr>\n",
              "      <th>1</th>\n",
              "      <td>150101</td>\n",
              "      <td>LIMA</td>\n",
              "      <td>LIMA</td>\n",
              "      <td>LIMA</td>\n",
              "    </tr>\n",
              "    <tr>\n",
              "      <th>2</th>\n",
              "      <td>150801</td>\n",
              "      <td>LIMA</td>\n",
              "      <td>HUAURA</td>\n",
              "      <td>HUACHO</td>\n",
              "    </tr>\n",
              "    <tr>\n",
              "      <th>3</th>\n",
              "      <td>140101</td>\n",
              "      <td>LAMBAYEQUE</td>\n",
              "      <td>CHICLAYO</td>\n",
              "      <td>CHICLAYO</td>\n",
              "    </tr>\n",
              "    <tr>\n",
              "      <th>4</th>\n",
              "      <td>150101</td>\n",
              "      <td>LIMA</td>\n",
              "      <td>LIMA</td>\n",
              "      <td>LIMA</td>\n",
              "    </tr>\n",
              "  </tbody>\n",
              "</table>\n",
              "</div>"
            ],
            "text/plain": [
              "   ubigeo_inei_domicilio dep_domicilio prov_domicilio dist_domicilio\n",
              "0                  80101         CUSCO          CUSCO          CUSCO\n",
              "1                 150101          LIMA           LIMA           LIMA\n",
              "2                 150801          LIMA         HUAURA         HUACHO\n",
              "3                 140101    LAMBAYEQUE       CHICLAYO       CHICLAYO\n",
              "4                 150101          LIMA           LIMA           LIMA"
            ]
          },
          "execution_count": 21,
          "metadata": {},
          "output_type": "execute_result"
        }
      ],
      "source": [
        "geo_vars = ['ubigeo_inei_domicilio', 'dep_domicilio', 'prov_domicilio', 'dist_domicilio']\n",
        "df_main[geo_vars].head()"
      ]
    },
    {
      "cell_type": "code",
      "execution_count": 22,
      "metadata": {
        "id": "sYIT84xY9A06"
      },
      "outputs": [],
      "source": [
        "df_main['ubigeo_inei_domicilio'] = df_main['ubigeo_inei_domicilio'].astype(str)"
      ]
    },
    {
      "cell_type": "code",
      "execution_count": 23,
      "metadata": {
        "id": "ni6nVRKZ9A06",
        "outputId": "d0c6f834-751c-44da-d8d2-6df8498f2d9f"
      },
      "outputs": [
        {
          "data": {
            "text/plain": [
              "ubigeo_inei_domicilio    0\n",
              "dep_domicilio            0\n",
              "prov_domicilio           0\n",
              "dist_domicilio           0\n",
              "dtype: int64"
            ]
          },
          "execution_count": 23,
          "metadata": {},
          "output_type": "execute_result"
        }
      ],
      "source": [
        "# Conteo de valores nulos para varias variables\n",
        "df_main[geo_vars].isna().sum()"
      ]
    },
    {
      "cell_type": "code",
      "execution_count": 24,
      "metadata": {
        "id": "MXM9VOTO9A07",
        "outputId": "8f77e2e2-2f74-4de7-b36c-23d2a1a445d9"
      },
      "outputs": [
        {
          "data": {
            "text/html": [
              "<div>\n",
              "<style scoped>\n",
              "    .dataframe tbody tr th:only-of-type {\n",
              "        vertical-align: middle;\n",
              "    }\n",
              "\n",
              "    .dataframe tbody tr th {\n",
              "        vertical-align: top;\n",
              "    }\n",
              "\n",
              "    .dataframe thead th {\n",
              "        text-align: right;\n",
              "    }\n",
              "</style>\n",
              "<table border=\"1\" class=\"dataframe\">\n",
              "  <thead>\n",
              "    <tr style=\"text-align: right;\">\n",
              "      <th></th>\n",
              "      <th>ubigeo_inei_domicilio</th>\n",
              "      <th>dep_domicilio</th>\n",
              "      <th>prov_domicilio</th>\n",
              "      <th>dist_domicilio</th>\n",
              "    </tr>\n",
              "  </thead>\n",
              "  <tbody>\n",
              "    <tr>\n",
              "      <th>count</th>\n",
              "      <td>136422</td>\n",
              "      <td>136422</td>\n",
              "      <td>136422</td>\n",
              "      <td>136422</td>\n",
              "    </tr>\n",
              "    <tr>\n",
              "      <th>unique</th>\n",
              "      <td>1716</td>\n",
              "      <td>25</td>\n",
              "      <td>196</td>\n",
              "      <td>1580</td>\n",
              "    </tr>\n",
              "    <tr>\n",
              "      <th>top</th>\n",
              "      <td>150142</td>\n",
              "      <td>LIMA</td>\n",
              "      <td>LIMA</td>\n",
              "      <td>VILLA EL SALVADOR</td>\n",
              "    </tr>\n",
              "    <tr>\n",
              "      <th>freq</th>\n",
              "      <td>7156</td>\n",
              "      <td>50719</td>\n",
              "      <td>46309</td>\n",
              "      <td>7156</td>\n",
              "    </tr>\n",
              "  </tbody>\n",
              "</table>\n",
              "</div>"
            ],
            "text/plain": [
              "       ubigeo_inei_domicilio dep_domicilio prov_domicilio     dist_domicilio\n",
              "count                 136422        136422         136422             136422\n",
              "unique                  1716            25            196               1580\n",
              "top                   150142          LIMA           LIMA  VILLA EL SALVADOR\n",
              "freq                    7156         50719          46309               7156"
            ]
          },
          "execution_count": 24,
          "metadata": {},
          "output_type": "execute_result"
        }
      ],
      "source": [
        "df_main[geo_vars].describe()"
      ]
    },
    {
      "cell_type": "code",
      "execution_count": 25,
      "metadata": {
        "id": "YISPtjW39A07"
      },
      "outputs": [],
      "source": [
        "gdf_deps = gpd.read_file('../data/LIMITE_DEPARTAMENTAL.zip')\n",
        "gdf_provs = gpd.read_file('../data/LIMITE_PROVINCIAL.zip')\n",
        "gdf_dists = gpd.read_file('../data/LIMITE_DISTRITAL.zip')"
      ]
    },
    {
      "cell_type": "code",
      "execution_count": 26,
      "metadata": {
        "id": "vGW15XdW9A07",
        "outputId": "613e0f51-bfdc-4425-b7a2-6860d04ad566"
      },
      "outputs": [
        {
          "data": {
            "text/plain": [
              "<AxesSubplot:>"
            ]
          },
          "execution_count": 26,
          "metadata": {},
          "output_type": "execute_result"
        },
        {
          "data": {
            "image/png": "[encoded data removed]",
            "text/plain": [
              "<Figure size 1080x360 with 3 Axes>"
            ]
          },
          "metadata": {},
          "output_type": "display_data"
        }
      ],
      "source": [
        "fig, (ax1, ax2, ax3) = plt.subplots(nrows=1, ncols=3,\n",
        "                                    figsize=(15, 5))\n",
        "\n",
        "gdf_deps.plot(ax=ax1)\n",
        "gdf_provs.plot(linewidth=0.5, ax=ax2)\n",
        "gdf_dists.plot(linewidth=0.1, ax=ax3)"
      ]
    },
    {
      "cell_type": "code",
      "execution_count": 27,
      "metadata": {
        "id": "-9sHgMqu9A08"
      },
      "outputs": [
        {
          "data": {
            "text/plain": [
              "True"
            ]
          },
          "execution_count": 27,
          "metadata": {},
          "output_type": "execute_result"
        }
      ],
      "source": [
        "# VALIDAMOS QUE LOS NOMBRES DE DEPARTAMENTOS\n",
        "# EN LOS DOS DATASETS SEAN IGUALES\n",
        "df_unique_dep = df_main['dep_domicilio'].unique()\n",
        "df_unique_dep.sort()\n",
        "\n",
        "gdf_unique_dep = gdf_deps['NOMBDEP'].unique()\n",
        "gdf_unique_dep.sort()\n",
        "\n",
        "(df_unique_dep == gdf_unique_dep).all() # True\n"
      ]
    },
    {
      "cell_type": "code",
      "execution_count": 28,
      "metadata": {
        "id": "ThZw77hQ9A08",
        "outputId": "799455d1-97ef-4138-93ba-4f6df10355d4"
      },
      "outputs": [
        {
          "data": {
            "text/html": [
              "<div>\n",
              "<style scoped>\n",
              "    .dataframe tbody tr th:only-of-type {\n",
              "        vertical-align: middle;\n",
              "    }\n",
              "\n",
              "    .dataframe tbody tr th {\n",
              "        vertical-align: top;\n",
              "    }\n",
              "\n",
              "    .dataframe thead th {\n",
              "        text-align: right;\n",
              "    }\n",
              "</style>\n",
              "<table border=\"1\" class=\"dataframe\">\n",
              "  <thead>\n",
              "    <tr style=\"text-align: right;\">\n",
              "      <th></th>\n",
              "      <th>index</th>\n",
              "      <th>dep_domicilio</th>\n",
              "    </tr>\n",
              "  </thead>\n",
              "  <tbody>\n",
              "    <tr>\n",
              "      <th>0</th>\n",
              "      <td>LIMA</td>\n",
              "      <td>50719</td>\n",
              "    </tr>\n",
              "    <tr>\n",
              "      <th>1</th>\n",
              "      <td>ANCASH</td>\n",
              "      <td>11753</td>\n",
              "    </tr>\n",
              "    <tr>\n",
              "      <th>2</th>\n",
              "      <td>CUSCO</td>\n",
              "      <td>10952</td>\n",
              "    </tr>\n",
              "    <tr>\n",
              "      <th>3</th>\n",
              "      <td>CAJAMARCA</td>\n",
              "      <td>8584</td>\n",
              "    </tr>\n",
              "    <tr>\n",
              "      <th>4</th>\n",
              "      <td>PIURA</td>\n",
              "      <td>7909</td>\n",
              "    </tr>\n",
              "  </tbody>\n",
              "</table>\n",
              "</div>"
            ],
            "text/plain": [
              "       index  dep_domicilio\n",
              "0       LIMA          50719\n",
              "1     ANCASH          11753\n",
              "2      CUSCO          10952\n",
              "3  CAJAMARCA           8584\n",
              "4      PIURA           7909"
            ]
          },
          "execution_count": 28,
          "metadata": {},
          "output_type": "execute_result"
        }
      ],
      "source": [
        "# Contamos la cantidad de hospitalizados por departamento\n",
        "conteo_x_dept = df_main['dep_domicilio'].value_counts()\n",
        "conteo_x_dept = conteo_x_dept.reset_index()\n",
        "conteo_x_dept.head()"
      ]
    },
    {
      "cell_type": "code",
      "execution_count": 29,
      "metadata": {
        "id": "bvgzrb4Y9A09"
      },
      "outputs": [],
      "source": [
        "# Unimos los conteos utilizando los nombres de departamentos\n",
        "gdf_conteo_x_dept = pd.merge(left=gdf_deps, right=conteo_x_dept, \n",
        "                             left_on=\"NOMBDEP\", right_on='index')"
      ]
    },
    {
      "cell_type": "code",
      "execution_count": 30,
      "metadata": {
        "id": "0E5Ghoen9A09",
        "outputId": "6932c053-2a64-4927-a629-ff159493c1d6"
      },
      "outputs": [
        {
          "data": {
            "text/plain": [
              "<AxesSubplot:>"
            ]
          },
          "execution_count": 30,
          "metadata": {},
          "output_type": "execute_result"
        },
        {
          "data": {
            "image/png": "[encoded data removed]",
            "text/plain": [
              "<Figure size 432x288 with 2 Axes>"
            ]
          },
          "metadata": {},
          "output_type": "display_data"
        }
      ],
      "source": [
        "# Mapa de calor de # de hospitalizados x departamento\n",
        "gdf_conteo_x_dept.plot(\"dep_domicilio\", cmap='viridis',\n",
        "                       legend=True)"
      ]
    },
    {
      "cell_type": "code",
      "execution_count": 31,
      "metadata": {
        "id": "eYnON7uj9A09"
      },
      "outputs": [],
      "source": [
        "# 1 punto mas para Evelyn!"
      ]
    },
    {
      "cell_type": "markdown",
      "metadata": {},
      "source": [
        "## Correlación\n",
        "\n",
        "Es el valor numérico que describe la relación (directa o inversa) entre 2 variables."
      ]
    },
    {
      "cell_type": "code",
      "execution_count": 32,
      "metadata": {},
      "outputs": [],
      "source": [
        "# Construir variable tiempo de hospitalizacion por covid\n",
        "df_main['fecha_ingreso_hosp_dt'] = pd.to_datetime(df_main['fecha_ingreso_hosp'], format=\"%d/%m/%Y\")\n",
        "df_main['fecha_segumiento_hosp_ultimo_dt'] = pd.to_datetime(df_main['fecha_segumiento_hosp_ultimo'], format=\"%d/%m/%Y\")"
      ]
    },
    {
      "cell_type": "code",
      "execution_count": 33,
      "metadata": {},
      "outputs": [
        {
          "data": {
            "text/plain": [
              "0    9 days\n",
              "1    8 days\n",
              "2   38 days\n",
              "3    7 days\n",
              "4    4 days\n",
              "dtype: timedelta64[ns]"
            ]
          },
          "execution_count": 33,
          "metadata": {},
          "output_type": "execute_result"
        }
      ],
      "source": [
        "dias_hosp = df_main['fecha_segumiento_hosp_ultimo_dt'] - df_main['fecha_ingreso_hosp_dt']\n",
        "dias_hosp.head()"
      ]
    },
    {
      "cell_type": "code",
      "execution_count": 34,
      "metadata": {},
      "outputs": [],
      "source": [
        "# De segundos a dias\n",
        "dias_hosp = dias_hosp.dt.total_seconds() / 60 / 60 / 24"
      ]
    },
    {
      "cell_type": "code",
      "execution_count": 35,
      "metadata": {},
      "outputs": [],
      "source": [
        "df_main['dias_delta_hosp'] = dias_hosp"
      ]
    },
    {
      "cell_type": "code",
      "execution_count": 36,
      "metadata": {},
      "outputs": [
        {
          "data": {
            "text/plain": [
              "0.13190281441847826"
            ]
          },
          "execution_count": 36,
          "metadata": {},
          "output_type": "execute_result"
        }
      ],
      "source": [
        "df_main['dias_delta_hosp'].corr(df_main['edad'])"
      ]
    },
    {
      "cell_type": "code",
      "execution_count": 37,
      "metadata": {},
      "outputs": [
        {
          "data": {
            "text/plain": [
              "<matplotlib.collections.PathCollection at 0x12eab2250>"
            ]
          },
          "execution_count": 37,
          "metadata": {},
          "output_type": "execute_result"
        },
        {
          "data": {
            "image/png": "[encoded data removed]",
            "text/plain": [
              "<Figure size 432x288 with 1 Axes>"
            ]
          },
          "metadata": {},
          "output_type": "display_data"
        }
      ],
      "source": [
        "plt.scatter(x=df_main['dias_delta_hosp'], y=df_main['edad'])"
      ]
    },
    {
      "cell_type": "code",
      "execution_count": 38,
      "metadata": {},
      "outputs": [],
      "source": [
        "corr_matrix_var = ['edad', 'flag_uci', 'cdc_positividad',\n",
        " 'cdc_fallecido_covid', 'dias_delta_hosp']"
      ]
    },
    {
      "cell_type": "code",
      "execution_count": 39,
      "metadata": {},
      "outputs": [
        {
          "data": {
            "text/plain": [
              "5"
            ]
          },
          "execution_count": 39,
          "metadata": {},
          "output_type": "execute_result"
        }
      ],
      "source": [
        "len(corr_matrix_var)"
      ]
    },
    {
      "cell_type": "code",
      "execution_count": 40,
      "metadata": {},
      "outputs": [
        {
          "data": {
            "text/html": [
              "<div>\n",
              "<style scoped>\n",
              "    .dataframe tbody tr th:only-of-type {\n",
              "        vertical-align: middle;\n",
              "    }\n",
              "\n",
              "    .dataframe tbody tr th {\n",
              "        vertical-align: top;\n",
              "    }\n",
              "\n",
              "    .dataframe thead th {\n",
              "        text-align: right;\n",
              "    }\n",
              "</style>\n",
              "<table border=\"1\" class=\"dataframe\">\n",
              "  <thead>\n",
              "    <tr style=\"text-align: right;\">\n",
              "      <th></th>\n",
              "      <th>edad</th>\n",
              "      <th>flag_uci</th>\n",
              "      <th>cdc_positividad</th>\n",
              "      <th>cdc_fallecido_covid</th>\n",
              "      <th>dias_delta_hosp</th>\n",
              "    </tr>\n",
              "  </thead>\n",
              "  <tbody>\n",
              "    <tr>\n",
              "      <th>edad</th>\n",
              "      <td>1.000000</td>\n",
              "      <td>0.031786</td>\n",
              "      <td>0.121101</td>\n",
              "      <td>0.418936</td>\n",
              "      <td>0.131903</td>\n",
              "    </tr>\n",
              "    <tr>\n",
              "      <th>flag_uci</th>\n",
              "      <td>0.031786</td>\n",
              "      <td>1.000000</td>\n",
              "      <td>0.042261</td>\n",
              "      <td>0.103393</td>\n",
              "      <td>0.316679</td>\n",
              "    </tr>\n",
              "    <tr>\n",
              "      <th>cdc_positividad</th>\n",
              "      <td>0.121101</td>\n",
              "      <td>0.042261</td>\n",
              "      <td>1.000000</td>\n",
              "      <td>0.091382</td>\n",
              "      <td>0.096393</td>\n",
              "    </tr>\n",
              "    <tr>\n",
              "      <th>cdc_fallecido_covid</th>\n",
              "      <td>0.418936</td>\n",
              "      <td>0.103393</td>\n",
              "      <td>0.091382</td>\n",
              "      <td>1.000000</td>\n",
              "      <td>-0.028707</td>\n",
              "    </tr>\n",
              "    <tr>\n",
              "      <th>dias_delta_hosp</th>\n",
              "      <td>0.131903</td>\n",
              "      <td>0.316679</td>\n",
              "      <td>0.096393</td>\n",
              "      <td>-0.028707</td>\n",
              "      <td>1.000000</td>\n",
              "    </tr>\n",
              "  </tbody>\n",
              "</table>\n",
              "</div>"
            ],
            "text/plain": [
              "                         edad  flag_uci  cdc_positividad  cdc_fallecido_covid  \\\n",
              "edad                 1.000000  0.031786         0.121101             0.418936   \n",
              "flag_uci             0.031786  1.000000         0.042261             0.103393   \n",
              "cdc_positividad      0.121101  0.042261         1.000000             0.091382   \n",
              "cdc_fallecido_covid  0.418936  0.103393         0.091382             1.000000   \n",
              "dias_delta_hosp      0.131903  0.316679         0.096393            -0.028707   \n",
              "\n",
              "                     dias_delta_hosp  \n",
              "edad                        0.131903  \n",
              "flag_uci                    0.316679  \n",
              "cdc_positividad             0.096393  \n",
              "cdc_fallecido_covid        -0.028707  \n",
              "dias_delta_hosp             1.000000  "
            ]
          },
          "execution_count": 40,
          "metadata": {},
          "output_type": "execute_result"
        }
      ],
      "source": [
        "corr_matrix  = df_main[corr_matrix_var].corr()\n",
        "corr_matrix"
      ]
    },
    {
      "cell_type": "code",
      "execution_count": 41,
      "metadata": {},
      "outputs": [
        {
          "data": {
            "image/png": "[encoded data removed]",
            "text/plain": [
              "<Figure size 288x288 with 2 Axes>"
            ]
          },
          "metadata": {},
          "output_type": "display_data"
        }
      ],
      "source": [
        "# Grafico de la matriz de correlacion\n",
        "\n",
        "plt.rcParams['axes.grid'] = False  # Eliminar lineas dentro del grafico\n",
        "\n",
        "plt.matshow(corr_matrix, cmap='coolwarm', vmin=-1, vmax=1)\n",
        "\n",
        "# Colocar nombres de variables en los ejes\n",
        "plt.xticks(np.arange(corr_matrix.shape[0]), corr_matrix.columns, rotation=90)\n",
        "plt.yticks(np.arange(corr_matrix.shape[0]), corr_matrix.columns)\n",
        "\n",
        "plt.colorbar() # Agregar un barra de colores como leyenda\n",
        "\n",
        "plt.show()"
      ]
    },
    {
      "cell_type": "markdown",
      "metadata": {},
      "source": [
        "## Analisis Exploratorio de Datos\n",
        "\n",
        "EDA, por sus siglas en inglés, es el proceso de limpieza y descubrimiento de *insights* a través de la revisión detallada de un conjunto de datos.\n",
        "\n",
        "### Pasos de preparación\n",
        "\n",
        "1. Seleccionar las variables a analizar (que sean relevantes para el estudio)\n",
        "1. Verificar la integridad de las variables (si están limpias o qué debemos hacer para limpiarlas o si no se pueden usar)\n",
        "1. Plantearse preguntas de exploración\n",
        "1. Plantear hipotesis a partir de nuestras variables*\n",
        "\n",
        "### Pasos de EDA \n",
        "\n",
        "1. Limpiar los datos (80% del tiempo)\n",
        "1. Responder las preguntas de exploración a partir de los datos (indicadores y gráficas)\n",
        "1. Responder las hipótesis (Tests estadísticos | estadística descriptiva)*\n",
        "1. Generar un reporte de resultados para el público en general \n",
        "\n",
        "> *Pasos opcionales dependiendo de la experiencia en el area de analisis"
      ]
    },
    {
      "cell_type": "code",
      "execution_count": 42,
      "metadata": {},
      "outputs": [],
      "source": [
        "profile = ppr.ProfileReport(df_main, title='Pandas Profiling Report', minimal=True)"
      ]
    },
    {
      "cell_type": "code",
      "execution_count": 43,
      "metadata": {},
      "outputs": [
        {
          "name": "stderr",
          "output_type": "stream",
          "text": [
            "Summarize dataset: 100%|██████████| 40/40 [00:01<00:00, 22.23it/s, Completed]                                        \n",
            "Generate report structure: 100%|██████████| 1/1 [00:05<00:00,  5.58s/it]\n",
            "Render HTML: 100%|██████████| 1/1 [00:00<00:00,  1.08it/s]\n",
            "Export report to file: 100%|██████████| 1/1 [00:00<00:00, 193.17it/s]\n"
          ]
        }
      ],
      "source": [
        "profile.to_file('../data/reports/TB_HOSP_VAC_FALLECIDOS.html')"
      ]
    },
    {
      "cell_type": "markdown",
      "metadata": {},
      "source": [
        "### Preguntas de exploración\n",
        "\n",
        "1. ¿Cuál fue el índice de mortalidad por grupo de edad?\n",
        "1. ¿Cuál es el % de pacientes UCI vacunados con la 1, 2 o 3 dosis?\n",
        "1. ¿Cuál es la edad promedio de las personas que ingresaron a UCI?\n",
        "1. ¿Cuál fue el tiempo promedio de recuperación de las personas que lograron salir de UCI?"
      ]
    },
    {
      "cell_type": "code",
      "execution_count": 44,
      "metadata": {},
      "outputs": [],
      "source": [
        "filtro_inicio_pandemia = df_main['fecha_ingreso_hosp_dt'] > datetime.datetime(2020, 3, 6)\n",
        "df_main_filtrado = df_main[filtro_inicio_pandemia]"
      ]
    },
    {
      "cell_type": "code",
      "execution_count": 45,
      "metadata": {},
      "outputs": [
        {
          "data": {
            "text/plain": [
              "cdc_fallecido_covid  edad_bins\n",
              "0                    (0, 5]        1869\n",
              "                     (5, 13]       2159\n",
              "                     (13, 18]      1891\n",
              "                     (18, 25]      7332\n",
              "                     (25, 40]     23733\n",
              "                     (40, 55]     23095\n",
              "                     (55, 65]     14735\n",
              "                     (65, 80]     12972\n",
              "                     (80, 95]      4175\n",
              "                     (95, 112]      148\n",
              "1                    (0, 5]          57\n",
              "                     (5, 13]         38\n",
              "                     (13, 18]        47\n",
              "                     (18, 25]       160\n",
              "                     (25, 40]      1671\n",
              "                     (40, 55]      6498\n",
              "                     (55, 65]      8641\n",
              "                     (65, 80]     13227\n",
              "                     (80, 95]      5778\n",
              "                     (95, 112]      303\n",
              "dtype: int64"
            ]
          },
          "execution_count": 45,
          "metadata": {},
          "output_type": "execute_result"
        }
      ],
      "source": [
        "# Índice de mortalidad por grupo de edad\n",
        "# Muestra: Personas hospitalizadas entre 2020-03-16 al 2022-03-08\n",
        "# Formula: # personas fallecidas entre X y Y años / Total de personas hospitalizadas entre X y Y años\n",
        "num_fallecidos_x_edad = df_main_filtrado.groupby(['cdc_fallecido_covid', 'edad_bins']).size()\n",
        "num_fallecidos_x_edad"
      ]
    },
    {
      "cell_type": "code",
      "execution_count": 46,
      "metadata": {},
      "outputs": [
        {
          "data": {
            "text/plain": [
              "edad_bins\n",
              "(0, 5]        1926\n",
              "(5, 13]       2197\n",
              "(13, 18]      1938\n",
              "(18, 25]      7492\n",
              "(25, 40]     25404\n",
              "(40, 55]     29593\n",
              "(55, 65]     23376\n",
              "(65, 80]     26199\n",
              "(80, 95]      9953\n",
              "(95, 112]      451\n",
              "dtype: int64"
            ]
          },
          "execution_count": 46,
          "metadata": {},
          "output_type": "execute_result"
        }
      ],
      "source": [
        "total_hosp = df_main_filtrado.groupby('edad_bins').size()\n",
        "total_hosp"
      ]
    },
    {
      "cell_type": "code",
      "execution_count": 47,
      "metadata": {},
      "outputs": [
        {
          "data": {
            "text/plain": [
              "edad_bins\n",
              "(0, 5]        2.959502\n",
              "(5, 13]       1.729631\n",
              "(13, 18]      2.425181\n",
              "(18, 25]      2.135611\n",
              "(25, 40]      6.577704\n",
              "(40, 55]     21.957895\n",
              "(55, 65]     36.965264\n",
              "(65, 80]     50.486660\n",
              "(80, 95]     58.052848\n",
              "(95, 112]    67.184035\n",
              "dtype: float64"
            ]
          },
          "execution_count": 47,
          "metadata": {},
          "output_type": "execute_result"
        }
      ],
      "source": [
        "perc_fallecidos_x_edad = num_fallecidos_x_edad.loc[1] / total_hosp * 100\n",
        "perc_fallecidos_x_edad"
      ]
    },
    {
      "cell_type": "code",
      "execution_count": 48,
      "metadata": {},
      "outputs": [
        {
          "data": {
            "text/plain": [
              "<AxesSubplot:xlabel='edad_bins'>"
            ]
          },
          "execution_count": 48,
          "metadata": {},
          "output_type": "execute_result"
        },
        {
          "data": {
            "image/png": "[encoded data removed]",
            "text/plain": [
              "<Figure size 432x288 with 1 Axes>"
            ]
          },
          "metadata": {},
          "output_type": "display_data"
        }
      ],
      "source": [
        "perc_fallecidos_x_edad.sort_values(ascending=False).plot(kind='bar')"
      ]
    },
    {
      "cell_type": "code",
      "execution_count": 49,
      "metadata": {},
      "outputs": [],
      "source": [
        "# Pacientes UCI vacunados con la 1, 2 o 3 dosis\n",
        "\n",
        "filtro_uci = df_main_filtrado['flag_uci'] == 1\n",
        "df_main_filtrado_uci = df_main_filtrado[filtro_uci]\n",
        "\n",
        "filtro_fechas_vacunacion = df_main_filtrado_uci['fecha_ingreso_hosp_dt'] >= datetime.datetime(2021, 2, 25)\n",
        "df_main_filtrado_uci = df_main_filtrado_uci[filtro_fechas_vacunacion]\n",
        "\n",
        "vars_vacuna = ['fecha_dosis1', 'fecha_dosis2', 'fecha_dosis3']\n"
      ]
    },
    {
      "cell_type": "code",
      "execution_count": 50,
      "metadata": {},
      "outputs": [
        {
          "data": {
            "text/plain": [
              "(0    4139\n",
              " 2    3106\n",
              " 3    2315\n",
              " 1     654\n",
              " Name: n_dosis, dtype: int64,\n",
              " 0    40.522812\n",
              " 2    30.409242\n",
              " 3    22.664970\n",
              " 1     6.402976\n",
              " Name: n_dosis, dtype: float64)"
            ]
          },
          "execution_count": 50,
          "metadata": {},
          "output_type": "execute_result"
        }
      ],
      "source": [
        "# Conteo de numero de dosis\n",
        "df_main_filtrado_uci['n_dosis'] = df_main_filtrado_uci[vars_vacuna].notna().sum(axis=1)\n",
        "# Conteo & porcentaje de pacientes UCI con 0, 1, 2 o 3 dosis \n",
        "df_main_filtrado_uci['n_dosis'].value_counts(), df_main_filtrado_uci['n_dosis'].value_counts(normalize=True) * 100"
      ]
    },
    {
      "cell_type": "code",
      "execution_count": 51,
      "metadata": {},
      "outputs": [
        {
          "data": {
            "text/plain": [
              "6         0\n",
              "8         0\n",
              "12        0\n",
              "22        0\n",
              "554       3\n",
              "         ..\n",
              "136320    0\n",
              "136337    2\n",
              "136355    3\n",
              "136368    2\n",
              "136412    1\n",
              "Name: n_dosis, Length: 10214, dtype: int64"
            ]
          },
          "execution_count": 51,
          "metadata": {},
          "output_type": "execute_result"
        }
      ],
      "source": [
        "df_main_filtrado_uci['n_dosis']"
      ]
    },
    {
      "cell_type": "code",
      "execution_count": 52,
      "metadata": {},
      "outputs": [
        {
          "data": {
            "text/html": [
              "<div>\n",
              "<style scoped>\n",
              "    .dataframe tbody tr th:only-of-type {\n",
              "        vertical-align: middle;\n",
              "    }\n",
              "\n",
              "    .dataframe tbody tr th {\n",
              "        vertical-align: top;\n",
              "    }\n",
              "\n",
              "    .dataframe thead th {\n",
              "        text-align: right;\n",
              "    }\n",
              "</style>\n",
              "<table border=\"1\" class=\"dataframe\">\n",
              "  <thead>\n",
              "    <tr style=\"text-align: right;\">\n",
              "      <th></th>\n",
              "      <th>fecha_dosis1</th>\n",
              "      <th>fecha_dosis2</th>\n",
              "      <th>fecha_dosis3</th>\n",
              "    </tr>\n",
              "  </thead>\n",
              "  <tbody>\n",
              "    <tr>\n",
              "      <th>6</th>\n",
              "      <td>False</td>\n",
              "      <td>False</td>\n",
              "      <td>False</td>\n",
              "    </tr>\n",
              "    <tr>\n",
              "      <th>8</th>\n",
              "      <td>False</td>\n",
              "      <td>False</td>\n",
              "      <td>False</td>\n",
              "    </tr>\n",
              "    <tr>\n",
              "      <th>12</th>\n",
              "      <td>False</td>\n",
              "      <td>False</td>\n",
              "      <td>False</td>\n",
              "    </tr>\n",
              "    <tr>\n",
              "      <th>22</th>\n",
              "      <td>False</td>\n",
              "      <td>False</td>\n",
              "      <td>False</td>\n",
              "    </tr>\n",
              "    <tr>\n",
              "      <th>554</th>\n",
              "      <td>True</td>\n",
              "      <td>True</td>\n",
              "      <td>True</td>\n",
              "    </tr>\n",
              "    <tr>\n",
              "      <th>...</th>\n",
              "      <td>...</td>\n",
              "      <td>...</td>\n",
              "      <td>...</td>\n",
              "    </tr>\n",
              "    <tr>\n",
              "      <th>136320</th>\n",
              "      <td>False</td>\n",
              "      <td>False</td>\n",
              "      <td>False</td>\n",
              "    </tr>\n",
              "    <tr>\n",
              "      <th>136337</th>\n",
              "      <td>True</td>\n",
              "      <td>True</td>\n",
              "      <td>False</td>\n",
              "    </tr>\n",
              "    <tr>\n",
              "      <th>136355</th>\n",
              "      <td>True</td>\n",
              "      <td>True</td>\n",
              "      <td>True</td>\n",
              "    </tr>\n",
              "    <tr>\n",
              "      <th>136368</th>\n",
              "      <td>True</td>\n",
              "      <td>True</td>\n",
              "      <td>False</td>\n",
              "    </tr>\n",
              "    <tr>\n",
              "      <th>136412</th>\n",
              "      <td>True</td>\n",
              "      <td>False</td>\n",
              "      <td>False</td>\n",
              "    </tr>\n",
              "  </tbody>\n",
              "</table>\n",
              "<p>10214 rows × 3 columns</p>\n",
              "</div>"
            ],
            "text/plain": [
              "        fecha_dosis1  fecha_dosis2  fecha_dosis3\n",
              "6              False         False         False\n",
              "8              False         False         False\n",
              "12             False         False         False\n",
              "22             False         False         False\n",
              "554             True          True          True\n",
              "...              ...           ...           ...\n",
              "136320         False         False         False\n",
              "136337          True          True         False\n",
              "136355          True          True          True\n",
              "136368          True          True         False\n",
              "136412          True         False         False\n",
              "\n",
              "[10214 rows x 3 columns]"
            ]
          },
          "execution_count": 52,
          "metadata": {},
          "output_type": "execute_result"
        }
      ],
      "source": [
        "# Los valores nulos representan que no se ha colocado la dosis\n",
        "df_main_filtrado_uci[vars_vacuna].notna()"
      ]
    },
    {
      "cell_type": "code",
      "execution_count": 53,
      "metadata": {},
      "outputs": [
        {
          "data": {
            "text/html": [
              "<div>\n",
              "<style scoped>\n",
              "    .dataframe tbody tr th:only-of-type {\n",
              "        vertical-align: middle;\n",
              "    }\n",
              "\n",
              "    .dataframe tbody tr th {\n",
              "        vertical-align: top;\n",
              "    }\n",
              "\n",
              "    .dataframe thead th {\n",
              "        text-align: right;\n",
              "    }\n",
              "</style>\n",
              "<table border=\"1\" class=\"dataframe\">\n",
              "  <thead>\n",
              "    <tr style=\"text-align: right;\">\n",
              "      <th></th>\n",
              "      <th>fecha_dosis1</th>\n",
              "      <th>fecha_dosis2</th>\n",
              "      <th>fecha_dosis3</th>\n",
              "    </tr>\n",
              "  </thead>\n",
              "  <tbody>\n",
              "    <tr>\n",
              "      <th>6</th>\n",
              "      <td>0</td>\n",
              "      <td>0</td>\n",
              "      <td>0</td>\n",
              "    </tr>\n",
              "    <tr>\n",
              "      <th>8</th>\n",
              "      <td>0</td>\n",
              "      <td>0</td>\n",
              "      <td>0</td>\n",
              "    </tr>\n",
              "    <tr>\n",
              "      <th>12</th>\n",
              "      <td>0</td>\n",
              "      <td>0</td>\n",
              "      <td>0</td>\n",
              "    </tr>\n",
              "    <tr>\n",
              "      <th>22</th>\n",
              "      <td>0</td>\n",
              "      <td>0</td>\n",
              "      <td>0</td>\n",
              "    </tr>\n",
              "    <tr>\n",
              "      <th>554</th>\n",
              "      <td>1</td>\n",
              "      <td>1</td>\n",
              "      <td>1</td>\n",
              "    </tr>\n",
              "    <tr>\n",
              "      <th>...</th>\n",
              "      <td>...</td>\n",
              "      <td>...</td>\n",
              "      <td>...</td>\n",
              "    </tr>\n",
              "    <tr>\n",
              "      <th>136320</th>\n",
              "      <td>0</td>\n",
              "      <td>0</td>\n",
              "      <td>0</td>\n",
              "    </tr>\n",
              "    <tr>\n",
              "      <th>136337</th>\n",
              "      <td>1</td>\n",
              "      <td>1</td>\n",
              "      <td>0</td>\n",
              "    </tr>\n",
              "    <tr>\n",
              "      <th>136355</th>\n",
              "      <td>1</td>\n",
              "      <td>1</td>\n",
              "      <td>1</td>\n",
              "    </tr>\n",
              "    <tr>\n",
              "      <th>136368</th>\n",
              "      <td>1</td>\n",
              "      <td>1</td>\n",
              "      <td>0</td>\n",
              "    </tr>\n",
              "    <tr>\n",
              "      <th>136412</th>\n",
              "      <td>1</td>\n",
              "      <td>0</td>\n",
              "      <td>0</td>\n",
              "    </tr>\n",
              "  </tbody>\n",
              "</table>\n",
              "<p>10214 rows × 3 columns</p>\n",
              "</div>"
            ],
            "text/plain": [
              "        fecha_dosis1  fecha_dosis2  fecha_dosis3\n",
              "6                  0             0             0\n",
              "8                  0             0             0\n",
              "12                 0             0             0\n",
              "22                 0             0             0\n",
              "554                1             1             1\n",
              "...              ...           ...           ...\n",
              "136320             0             0             0\n",
              "136337             1             1             0\n",
              "136355             1             1             1\n",
              "136368             1             1             0\n",
              "136412             1             0             0\n",
              "\n",
              "[10214 rows x 3 columns]"
            ]
          },
          "execution_count": 53,
          "metadata": {},
          "output_type": "execute_result"
        }
      ],
      "source": [
        "# Los valores True o False corresponden a 0 y 1 respectivamente\n",
        "df_temporal_vacunas = df_main_filtrado_uci[vars_vacuna].notna().astype(int)\n",
        "df_temporal_vacunas"
      ]
    },
    {
      "cell_type": "code",
      "execution_count": 54,
      "metadata": {},
      "outputs": [
        {
          "data": {
            "text/html": [
              "<div>\n",
              "<style scoped>\n",
              "    .dataframe tbody tr th:only-of-type {\n",
              "        vertical-align: middle;\n",
              "    }\n",
              "\n",
              "    .dataframe tbody tr th {\n",
              "        vertical-align: top;\n",
              "    }\n",
              "\n",
              "    .dataframe thead th {\n",
              "        text-align: right;\n",
              "    }\n",
              "</style>\n",
              "<table border=\"1\" class=\"dataframe\">\n",
              "  <thead>\n",
              "    <tr style=\"text-align: right;\">\n",
              "      <th></th>\n",
              "      <th>fecha_dosis1</th>\n",
              "      <th>fecha_dosis2</th>\n",
              "      <th>fecha_dosis3</th>\n",
              "      <th>cantidad_dosis</th>\n",
              "    </tr>\n",
              "  </thead>\n",
              "  <tbody>\n",
              "    <tr>\n",
              "      <th>6</th>\n",
              "      <td>0</td>\n",
              "      <td>0</td>\n",
              "      <td>0</td>\n",
              "      <td>0</td>\n",
              "    </tr>\n",
              "    <tr>\n",
              "      <th>8</th>\n",
              "      <td>0</td>\n",
              "      <td>0</td>\n",
              "      <td>0</td>\n",
              "      <td>0</td>\n",
              "    </tr>\n",
              "    <tr>\n",
              "      <th>12</th>\n",
              "      <td>0</td>\n",
              "      <td>0</td>\n",
              "      <td>0</td>\n",
              "      <td>0</td>\n",
              "    </tr>\n",
              "    <tr>\n",
              "      <th>22</th>\n",
              "      <td>0</td>\n",
              "      <td>0</td>\n",
              "      <td>0</td>\n",
              "      <td>0</td>\n",
              "    </tr>\n",
              "    <tr>\n",
              "      <th>554</th>\n",
              "      <td>1</td>\n",
              "      <td>1</td>\n",
              "      <td>1</td>\n",
              "      <td>3</td>\n",
              "    </tr>\n",
              "    <tr>\n",
              "      <th>...</th>\n",
              "      <td>...</td>\n",
              "      <td>...</td>\n",
              "      <td>...</td>\n",
              "      <td>...</td>\n",
              "    </tr>\n",
              "    <tr>\n",
              "      <th>136320</th>\n",
              "      <td>0</td>\n",
              "      <td>0</td>\n",
              "      <td>0</td>\n",
              "      <td>0</td>\n",
              "    </tr>\n",
              "    <tr>\n",
              "      <th>136337</th>\n",
              "      <td>1</td>\n",
              "      <td>1</td>\n",
              "      <td>0</td>\n",
              "      <td>2</td>\n",
              "    </tr>\n",
              "    <tr>\n",
              "      <th>136355</th>\n",
              "      <td>1</td>\n",
              "      <td>1</td>\n",
              "      <td>1</td>\n",
              "      <td>3</td>\n",
              "    </tr>\n",
              "    <tr>\n",
              "      <th>136368</th>\n",
              "      <td>1</td>\n",
              "      <td>1</td>\n",
              "      <td>0</td>\n",
              "      <td>2</td>\n",
              "    </tr>\n",
              "    <tr>\n",
              "      <th>136412</th>\n",
              "      <td>1</td>\n",
              "      <td>0</td>\n",
              "      <td>0</td>\n",
              "      <td>1</td>\n",
              "    </tr>\n",
              "  </tbody>\n",
              "</table>\n",
              "<p>10214 rows × 4 columns</p>\n",
              "</div>"
            ],
            "text/plain": [
              "        fecha_dosis1  fecha_dosis2  fecha_dosis3  cantidad_dosis\n",
              "6                  0             0             0               0\n",
              "8                  0             0             0               0\n",
              "12                 0             0             0               0\n",
              "22                 0             0             0               0\n",
              "554                1             1             1               3\n",
              "...              ...           ...           ...             ...\n",
              "136320             0             0             0               0\n",
              "136337             1             1             0               2\n",
              "136355             1             1             1               3\n",
              "136368             1             1             0               2\n",
              "136412             1             0             0               1\n",
              "\n",
              "[10214 rows x 4 columns]"
            ]
          },
          "execution_count": 54,
          "metadata": {},
          "output_type": "execute_result"
        }
      ],
      "source": [
        "# Si sumamos las columnas tendremos el total de dosis por persona\n",
        "df_temporal_vacunas['cantidad_dosis'] = df_main_filtrado_uci[vars_vacuna].notna().sum(axis=1)\n",
        "df_temporal_vacunas"
      ]
    },
    {
      "cell_type": "code",
      "execution_count": 55,
      "metadata": {},
      "outputs": [
        {
          "name": "stdout",
          "output_type": "stream",
          "text": [
            "Edad promedio de las pacientes UCI:\n"
          ]
        },
        {
          "data": {
            "text/plain": [
              "54.0"
            ]
          },
          "execution_count": 55,
          "metadata": {},
          "output_type": "execute_result"
        }
      ],
      "source": [
        "# Edad promedio de las pacientes UCI\n",
        "print('Edad promedio de las pacientes UCI:')\n",
        "df_main_filtrado[filtro_uci]['edad'].mean().round(0)"
      ]
    },
    {
      "cell_type": "code",
      "execution_count": 56,
      "metadata": {},
      "outputs": [
        {
          "name": "stdout",
          "output_type": "stream",
          "text": [
            "Tiempo promedio de recuperación de pacientes UCI recuperados:\n"
          ]
        },
        {
          "data": {
            "text/plain": [
              "Timedelta('23 days 22:39:53.397524071')"
            ]
          },
          "execution_count": 56,
          "metadata": {},
          "output_type": "execute_result"
        }
      ],
      "source": [
        "# Tiempo promedio de recuperación de pacientes UCI recuperados\n",
        "# Muestra: Pacientes que entraron y se recuperaron\n",
        "# Formula: SUM(Fecha de alta medica - Fecha de ingreso UCI para cada paciente) / # pacientes \n",
        "df_main['fecha_ingreso_uci_dt'] = pd.to_datetime(df_main['fecha_ingreso_uci'], format='%d/%m/%Y')\n",
        "\n",
        "filtro_alta_med = df_main['evolucion_hosp_ultimo'] == 'alta'\n",
        "df_main_filtro_uci_recuperados = df_main[filtro_inicio_pandemia & filtro_uci & filtro_alta_med]\n",
        "\n",
        "tiempo_recuperacion_uci = df_main_filtro_uci_recuperados['fecha_segumiento_hosp_ultimo_dt'] - df_main_filtro_uci_recuperados['fecha_ingreso_uci_dt']\n",
        "print(\"Tiempo promedio de recuperación de pacientes UCI recuperados:\")\n",
        "tiempo_recuperacion_uci.mean()"
      ]
    },
    {
      "cell_type": "code",
      "execution_count": 57,
      "metadata": {},
      "outputs": [
        {
          "data": {
            "text/plain": [
              "alta               92564\n",
              "defuncion          35244\n",
              "referido            3026\n",
              "alta_voluntaria     2271\n",
              "estacionario         609\n",
              "desfavorable         601\n",
              "favorable            184\n",
              "Name: evolucion_hosp_ultimo, dtype: int64"
            ]
          },
          "execution_count": 57,
          "metadata": {},
          "output_type": "execute_result"
        }
      ],
      "source": [
        "df_main['evolucion_hosp_ultimo'].value_counts()"
      ]
    },
    {
      "cell_type": "markdown",
      "metadata": {},
      "source": [
        "### Ejemplos de Test de Hipótesis Estadísticas\n",
        "\n",
        "Esta guía es un resumen y adapación de [*17 Statistical Hypothesis Tests in Python*](https://machinelearningmastery.com/statistical-hypothesis-tests-in-python-cheat-sheet/)"
      ]
    },
    {
      "cell_type": "markdown",
      "metadata": {},
      "source": [
        "#### Test de Normalidad Shapiro-Wilk\n",
        "\n",
        "Permite determinar que tan probable que los datos sigan una distribución Normal (Gaussiana). El único supuesto necesario para aplicar este test es que las observaciones de la muestra de datos sean independientes e identicamente distribuidas (iid).\n",
        "\n",
        "\n",
        "#### ¿Cómo se interpretan los resultados de este test?\n",
        "\n",
        "Se tienen dos hipotesis: La Hipótesis Nula (H0), que se intenta rechazar, y la Hipótesis Alternativa (H1), que se intenta comprobar.\n",
        "\n",
        "- H0: La muestra tiene una distribucion Normal. Se rechaza si $p$ < 0.05\n",
        "- H1: La muestra **NO** tiene una distribucion Normal. Se rechaza si $p$ > 0.05\n",
        "\n",
        "\n",
        "Veamos la implementación desde python:\n"
      ]
    },
    {
      "cell_type": "code",
      "execution_count": 85,
      "metadata": {},
      "outputs": [],
      "source": [
        "from scipy.stats import shapiro"
      ]
    },
    {
      "cell_type": "code",
      "execution_count": 123,
      "metadata": {},
      "outputs": [
        {
          "data": {
            "text/plain": [
              "(128574,)"
            ]
          },
          "execution_count": 123,
          "metadata": {},
          "output_type": "execute_result"
        }
      ],
      "source": [
        "edad = df_main_filtrado['edad'].dropna()\n",
        "edad.shape"
      ]
    },
    {
      "cell_type": "code",
      "execution_count": 124,
      "metadata": {},
      "outputs": [],
      "source": [
        "# N > 5000 el valor de p no es preciso, por ello seleccionemos 45000 observaciones aleatoriamente\n",
        "edad = edad.sample(4500) "
      ]
    },
    {
      "cell_type": "code",
      "execution_count": 125,
      "metadata": {},
      "outputs": [
        {
          "name": "stdout",
          "output_type": "stream",
          "text": [
            "stat=0.989, p=0.000\n"
          ]
        }
      ],
      "source": [
        "stat, p = shapiro(edad)\n",
        "print(f'stat={stat:.3f}, p={p:.3f}')"
      ]
    },
    {
      "cell_type": "code",
      "execution_count": 127,
      "metadata": {},
      "outputs": [
        {
          "name": "stdout",
          "output_type": "stream",
          "text": [
            "Se rechaza la H0. La muestra NO tiene una distribucion Normal\n"
          ]
        }
      ],
      "source": [
        "if p > 0.05:\n",
        "\tprint('Se acepta la H0. La muestra tiene una distribucion Normal.')\n",
        "else:\n",
        "\tprint('Se rechaza la H0. La muestra NO tiene una distribucion Normal')"
      ]
    },
    {
      "cell_type": "markdown",
      "metadata": {},
      "source": [
        "\n",
        "#### Chi-Squared Test\n",
        "\n",
        "Este test te permite determinar si es probable que dos variables categóricas están relacionadas o son independientes entre sí. Para que este test sea válido se necesita cumplir con 2 supuestos. 1) Las observaciones utilizadas para calcular la tabla de contingencia son independientes y 2) Cada valor en la tabla de contingenia debe ser mayor a 25.\n",
        "\n",
        "#### ¿Qué es una tabla de contingencia?\n",
        "\n",
        "Es una tabla de cruzada de frecuencia de dos observaciones categoricas. Como en el siguiente ejemplo:\n",
        "\n",
        "| Sexo / Flag_UCI | 0   | 1  | Total |\n",
        "|-----------------|-----|----|-------|\n",
        "| **M**               | 54  | 32 | 86    |\n",
        "| **F**               | 68  | 34 | 102   |\n",
        "| **Total**           | 122 | 66 | 188   |\n",
        "\n",
        "#### ¿Cómo se interpretan los resultados de este test?\n",
        "\n",
        "- H0: Las dos muestras son independientes. Se rechaza si $p$ < 0.05\n",
        "- H1: Existe dependencia entre las muestras. Se rechaza si $p$ > 0.05\n",
        "\n",
        "Veamos la implementación desde python:"
      ]
    },
    {
      "cell_type": "code",
      "execution_count": null,
      "metadata": {},
      "outputs": [],
      "source": [
        "from scipy.stats import chi2_contingency"
      ]
    },
    {
      "cell_type": "code",
      "execution_count": 62,
      "metadata": {},
      "outputs": [
        {
          "data": {
            "text/html": [
              "<div>\n",
              "<style scoped>\n",
              "    .dataframe tbody tr th:only-of-type {\n",
              "        vertical-align: middle;\n",
              "    }\n",
              "\n",
              "    .dataframe tbody tr th {\n",
              "        vertical-align: top;\n",
              "    }\n",
              "\n",
              "    .dataframe thead th {\n",
              "        text-align: right;\n",
              "    }\n",
              "</style>\n",
              "<table border=\"1\" class=\"dataframe\">\n",
              "  <thead>\n",
              "    <tr style=\"text-align: right;\">\n",
              "      <th>flag_uci</th>\n",
              "      <th>0</th>\n",
              "      <th>1</th>\n",
              "    </tr>\n",
              "    <tr>\n",
              "      <th>sexo</th>\n",
              "      <th></th>\n",
              "      <th></th>\n",
              "    </tr>\n",
              "  </thead>\n",
              "  <tbody>\n",
              "    <tr>\n",
              "      <th>F</th>\n",
              "      <td>54584</td>\n",
              "      <td>5848</td>\n",
              "    </tr>\n",
              "    <tr>\n",
              "      <th>M</th>\n",
              "      <td>58095</td>\n",
              "      <td>11049</td>\n",
              "    </tr>\n",
              "  </tbody>\n",
              "</table>\n",
              "</div>"
            ],
            "text/plain": [
              "flag_uci      0      1\n",
              "sexo                  \n",
              "F         54584   5848\n",
              "M         58095  11049"
            ]
          },
          "execution_count": 62,
          "metadata": {},
          "output_type": "execute_result"
        }
      ],
      "source": [
        "\n",
        "contingency_table = pd.crosstab(df_main_filtrado['sexo'], df_main_filtrado['flag_uci'])\n",
        "contingency_table"
      ]
    },
    {
      "cell_type": "code",
      "execution_count": 128,
      "metadata": {},
      "outputs": [
        {
          "name": "stdout",
          "output_type": "stream",
          "text": [
            "stat=1129.102, p=0.000\n"
          ]
        }
      ],
      "source": [
        "stat, p, dof, expected = chi2_contingency(contingency_table)\n",
        "print(f'stat={stat:.3f}, p={p:.3f}')"
      ]
    },
    {
      "cell_type": "code",
      "execution_count": 129,
      "metadata": {},
      "outputs": [
        {
          "name": "stdout",
          "output_type": "stream",
          "text": [
            "Se rechaza la H0. Existe dependencia entre las muestras.\n"
          ]
        }
      ],
      "source": [
        "if p > 0.05:\n",
        "\tprint('Se acepta la H0. Las dos muestras son independientes.')\n",
        "else:\n",
        "\tprint('Se rechaza la H0. Existe dependencia entre las muestras.')"
      ]
    },
    {
      "cell_type": "markdown",
      "metadata": {},
      "source": [
        "#### Analisis de Varianza (ANOVA)\n",
        "\n",
        "Este test te permite determinar si es probable que dos o mas grupos tienen la misma media poblacional. Los supuestos de este test son que las observaciones de cada muestra:\n",
        "\n",
        "1. Son independientes y identicamente distribuidas (iid).\n",
        "1. Siguen una distribución normal.\n",
        "1. Tienen la misma varianza (homocedasticidad).\n",
        "\n",
        "#### ¿Cómo se interpretan los resultados de este test?\n",
        "\n",
        "- H0: Las medias poblacionales de los grupos son iguales. Se rechaza si $p$ < 0.05\n",
        "- H1: Una o más de las medias poblacionales de los grupos son diferentes. Se rechaza si $p$ > 0.05\n",
        "\n",
        "Veamos la implementación desde python:\n"
      ]
    },
    {
      "cell_type": "code",
      "execution_count": 69,
      "metadata": {},
      "outputs": [],
      "source": [
        "from scipy.stats import f_oneway"
      ]
    },
    {
      "cell_type": "code",
      "execution_count": 74,
      "metadata": {},
      "outputs": [],
      "source": [
        "# Filtrar solo las personas que ingresaron luego del inicio de la vacunación\n",
        "filtro_fechas_vacunacion = df_main_filtrado['fecha_ingreso_hosp_dt'] >= datetime.datetime(2021, 2, 25)\n",
        "df_main_filtrado_fechas_vacuna = df_main_filtrado[filtro_fechas_vacunacion].copy()\n",
        "\n",
        "# Conteo de numero de dosis\n",
        "vars_vacuna = ['fecha_dosis1', 'fecha_dosis2', 'fecha_dosis3']\n",
        "df_main_filtrado_fechas_vacuna['n_dosis'] = df_main_filtrado_fechas_vacuna[vars_vacuna].notna().sum(axis=1)\n",
        "\n",
        "# Muestras (Variable a analizar: Cantidad de dosis)\n",
        "muestra_no_uci = df_main_filtrado_fechas_vacuna[df_main_filtrado_fechas_vacuna['flag_uci'] == 0]['n_dosis']\n",
        "muestra_uci = df_main_filtrado_fechas_vacuna[df_main_filtrado_fechas_vacuna['flag_uci'] == 1]['n_dosis']"
      ]
    },
    {
      "cell_type": "code",
      "execution_count": 130,
      "metadata": {},
      "outputs": [
        {
          "name": "stdout",
          "output_type": "stream",
          "text": [
            "stat=186.488, p=0.000\n"
          ]
        }
      ],
      "source": [
        "stat, p = f_oneway(muestra_no_uci, muestra_uci)\n",
        "print(f'stat={stat:.3f}, p={p:.3f}')"
      ]
    },
    {
      "cell_type": "code",
      "execution_count": 131,
      "metadata": {},
      "outputs": [
        {
          "name": "stdout",
          "output_type": "stream",
          "text": [
            "Se rechaza la H0. Una o más de las medias poblacionales de los grupos son diferente.\n"
          ]
        }
      ],
      "source": [
        "if p > 0.05:\n",
        "\tprint('Se acepta la H0. Las medias poblacionales de los grupos son iguales.')\n",
        "else:\n",
        "\tprint('Se rechaza la H0. Una o más de las medias poblacionales de los grupos son diferente.')"
      ]
    },
    {
      "cell_type": "markdown",
      "metadata": {},
      "source": [
        "Ese resultado no era fácil de inferir utilizando solamente el cálculo de la media muestral:"
      ]
    },
    {
      "cell_type": "code",
      "execution_count": 82,
      "metadata": {},
      "outputs": [
        {
          "data": {
            "text/plain": [
              "(1.5330759521865023, 1.3521636968866262)"
            ]
          },
          "execution_count": 82,
          "metadata": {},
          "output_type": "execute_result"
        }
      ],
      "source": [
        "muestra_no_uci.mean(), muestra_uci.mean()"
      ]
    },
    {
      "cell_type": "code",
      "execution_count": null,
      "metadata": {},
      "outputs": [],
      "source": []
    }
  ],
  "metadata": {
    "colab": {
      "include_colab_link": true,
      "name": "eda.ipynb",
      "provenance": []
    },
    "interpreter": {
      "hash": "0c9bd66ba379a9ecd4961e2d6396edd05cc5d484d536b9e611dbcc75c24ec371"
    },
    "kernelspec": {
      "display_name": "Python 3.9.5 64-bit ('wordcloudenv')",
      "language": "python",
      "name": "python3"
    },
    "language_info": {
      "codemirror_mode": {
        "name": "ipython",
        "version": 3
      },
      "file_extension": ".py",
      "mimetype": "text/x-python",
      "name": "python",
      "nbconvert_exporter": "python",
      "pygments_lexer": "ipython3",
      "version": "3.9.5"
    },
    "orig_nbformat": 4
  },
  "nbformat": 4,
  "nbformat_minor": 0
}
