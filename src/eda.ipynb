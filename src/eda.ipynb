{
  "cells": [
    {
      "cell_type": "markdown",
      "metadata": {
        "colab_type": "text",
        "id": "view-in-github"
      },
      "source": [
        "<a href=\"https://colab.research.google.com/github/Claudio9701/pythonAnalyticsBootcamp/blob/master/src/eda.ipynb\" target=\"_parent\"><img src=\"https://colab.research.google.com/assets/colab-badge.svg\" alt=\"Open In Colab\"/></a>"
      ]
    },
    {
      "cell_type": "markdown",
      "metadata": {
        "id": "kk8nfzd19ErA"
      },
      "source": [
        "Probando uso de notebooks dentro de una repo de GH en Googla Colab 👍🏽"
      ]
    },
    {
      "cell_type": "code",
      "execution_count": 2,
      "metadata": {
        "id": "46kPMAwy9A0o"
      },
      "outputs": [],
      "source": [
        "import pandas as pd # Manejo de datos tabulados\n",
        "import numpy as np # Algebra Lineal y operaciones matematicas\n",
        "import matplotlib.pyplot as plt # Graficos de datos\n",
        "import seaborn as sns # Graficos estadisticos\n",
        "import pandas_profiling as ppr # ?????????\n",
        "from fitter import Fitter # Ajuste de distribuciones de probs"
      ]
    },
    {
      "cell_type": "code",
      "execution_count": 34,
      "metadata": {
        "id": "5HLLDVEU9A0k"
      },
      "outputs": [],
      "source": [
        "%matplotlib inline"
      ]
    },
    {
      "cell_type": "code",
      "execution_count": 3,
      "metadata": {
        "id": "snQ9UpV49A0p"
      },
      "outputs": [],
      "source": [
        "sns.set_theme(style=\"whitegrid\")"
      ]
    },
    {
      "cell_type": "code",
      "execution_count": 4,
      "metadata": {
        "id": "zC9JIXt_9A0q"
      },
      "outputs": [],
      "source": [
        "# Leemos los datos seleccionados\n",
        "df_main = pd.read_csv('../data/TB_HOSP_VAC_FALLECIDOS.csv')\n",
        "df_oxigen = pd.read_csv('../data/Oxigeno_25-10-2021.csv', sep=\"|\")\n",
        "df_camas = pd.read_csv('../data/Camas-08_03_2022.csv', sep=\"|\")"
      ]
    },
    {
      "cell_type": "code",
      "execution_count": 5,
      "metadata": {
        "id": "_skE7RUU9A0q"
      },
      "outputs": [
        {
          "data": {
            "text/plain": [
              "(135958, 136422)"
            ]
          },
          "execution_count": 5,
          "metadata": {},
          "output_type": "execute_result"
        }
      ],
      "source": [
        "# Validar integridad del identificador \"único\"\n",
        "len(df_main['id_persona'].unique()), df_main.shape[0]"
      ]
    },
    {
      "cell_type": "code",
      "execution_count": 6,
      "metadata": {
        "id": "Kj8YeRMD9A0r",
        "outputId": "044a7198-f56f-4012-a688-b981e7fdd1f4"
      },
      "outputs": [
        {
          "data": {
            "text/plain": [
              "0"
            ]
          },
          "execution_count": 6,
          "metadata": {},
          "output_type": "execute_result"
        }
      ],
      "source": [
        "# Nulos en id_persona\n",
        "df_main['id_persona'].isna().sum()"
      ]
    },
    {
      "cell_type": "code",
      "execution_count": 7,
      "metadata": {
        "id": "-GGqltSP9A0u",
        "outputId": "a1d6a6ee-fe8f-492f-e5cf-ebdf5b59ad2f"
      },
      "outputs": [
        {
          "data": {
            "text/plain": [
              "26422634    3\n",
              "6054506     3\n",
              "29048330    3\n",
              "3820273     2\n",
              "9985143     2\n",
              "Name: id_persona, dtype: int64"
            ]
          },
          "execution_count": 7,
          "metadata": {},
          "output_type": "execute_result"
        }
      ],
      "source": [
        "# Conteo de cuantas veces se duplican los id_persona\n",
        "filtro_duplicados = df_main['id_persona'].duplicated(keep=False)\n",
        "df_main[filtro_duplicados]['id_persona'].value_counts().head()"
      ]
    },
    {
      "cell_type": "code",
      "execution_count": 8,
      "metadata": {
        "id": "BYbxDoTu9A0v"
      },
      "outputs": [],
      "source": [
        "# TODO: Crear variable si fue reinfeccion (0, 1)\n",
        "# TODO: Crear variable con el # de la reinfeccion (1, 2, etc)"
      ]
    },
    {
      "cell_type": "code",
      "execution_count": 9,
      "metadata": {
        "id": "DX1r3QIQ9A0v",
        "outputId": "50f84ce3-cd4e-43c1-dd44-08218f0de4f9"
      },
      "outputs": [
        {
          "name": "stdout",
          "output_type": "stream",
          "text": [
            "7843\n",
            "5.75 %\n"
          ]
        }
      ],
      "source": [
        "# Numero de valores perdidos / missings\n",
        "edad_na_count = df_main['edad'].isna().sum()\n",
        "print(edad_na_count)\n",
        "print(round(edad_na_count / df_main.shape[0] * 100, 2), '%')"
      ]
    },
    {
      "cell_type": "code",
      "execution_count": 10,
      "metadata": {
        "id": "8Dz7oZpd9A0x",
        "outputId": "06783ffd-0afe-44dd-cb3f-6342539022c6"
      },
      "outputs": [
        {
          "name": "stderr",
          "output_type": "stream",
          "text": [
            "/var/folders/kb/8rst2bm96jq7g3ykfrtw15zc0000gp/T/ipykernel_10824/3643795002.py:2: UserWarning: Matplotlib is currently using agg, which is a non-GUI backend, so cannot show the figure.\n",
            "  plt.show()\n"
          ]
        }
      ],
      "source": [
        "df_main['edad'].hist()\n",
        "plt.show()"
      ]
    },
    {
      "cell_type": "code",
      "execution_count": 11,
      "metadata": {
        "id": "G9N8o_Qq9A0y",
        "outputId": "5f62c1ea-97e3-4871-dcf4-b6615f39b715"
      },
      "outputs": [
        {
          "data": {
            "text/plain": [
              "count    128579.000000\n",
              "mean         52.179446\n",
              "std          20.436026\n",
              "min           0.000000\n",
              "25%          37.000000\n",
              "50%          54.000000\n",
              "75%          68.000000\n",
              "max         111.000000\n",
              "Name: edad, dtype: float64"
            ]
          },
          "execution_count": 11,
          "metadata": {},
          "output_type": "execute_result"
        }
      ],
      "source": [
        "df_main['edad'].describe()"
      ]
    },
    {
      "cell_type": "code",
      "execution_count": 12,
      "metadata": {
        "id": "fcgTSZdv9A0y",
        "outputId": "1dd5ada7-bcfc-4870-f6e1-713e46807f29"
      },
      "outputs": [
        {
          "data": {
            "text/plain": [
              "array([  0.        ,  15.85714286,  31.71428571,  47.57142857,\n",
              "        63.42857143,  79.28571429,  95.14285714, 111.        ])"
            ]
          },
          "execution_count": 12,
          "metadata": {},
          "output_type": "execute_result"
        }
      ],
      "source": [
        "counts, bins = np.histogram(df_main['edad'].dropna().values, bins=7)\n",
        "bins"
      ]
    },
    {
      "cell_type": "code",
      "execution_count": 13,
      "metadata": {
        "id": "xvE0uAM09A0z"
      },
      "outputs": [],
      "source": [
        "rangos_edad = [0, 5, 13, 18, 25, 40, 55, 65, 80, 95, 112]\n",
        "edad_bins = pd.cut(df_main['edad'], bins=rangos_edad)\n",
        "\n",
        "edad_bins_count = edad_bins.value_counts()"
      ]
    },
    {
      "cell_type": "code",
      "execution_count": 14,
      "metadata": {
        "id": "h_9m04la9A0z",
        "outputId": "e8cb4a5a-0f69-4e20-b509-3faa6d692e78"
      },
      "outputs": [
        {
          "data": {
            "text/plain": [
              "(40, 55]     29595\n",
              "(65, 80]     26201\n",
              "(25, 40]     25404\n",
              "(55, 65]     23376\n",
              "(80, 95]      9954\n",
              "(18, 25]      7492\n",
              "(5, 13]       2197\n",
              "(13, 18]      1938\n",
              "(0, 5]        1926\n",
              "(95, 112]      451\n",
              "Name: edad, dtype: int64"
            ]
          },
          "execution_count": 14,
          "metadata": {},
          "output_type": "execute_result"
        }
      ],
      "source": [
        "edad_bins_count"
      ]
    },
    {
      "cell_type": "code",
      "execution_count": 15,
      "metadata": {
        "id": "dcUCxfk89A00",
        "outputId": "59ce9785-0625-4162-8962-1b2b4ca1d888"
      },
      "outputs": [
        {
          "data": {
            "text/plain": [
              "<AxesSubplot:>"
            ]
          },
          "execution_count": 15,
          "metadata": {},
          "output_type": "execute_result"
        }
      ],
      "source": [
        "edad_bins_count.sort_index().plot(kind='bar')"
      ]
    },
    {
      "cell_type": "code",
      "execution_count": 16,
      "metadata": {
        "id": "PLJEUYPQ9A01"
      },
      "outputs": [],
      "source": [
        "df_main['edad_bins'] = edad_bins"
      ]
    },
    {
      "cell_type": "code",
      "execution_count": 17,
      "metadata": {
        "id": "dJ_0FTI79A01",
        "outputId": "f9a6dc2f-8ff3-4010-fd03-df984f9dd7dd"
      },
      "outputs": [
        {
          "data": {
            "text/plain": [
              "(6840, 0.05013854070457844)"
            ]
          },
          "execution_count": 17,
          "metadata": {},
          "output_type": "execute_result"
        }
      ],
      "source": [
        "# Valores perdidos / missings\n",
        "df_main['sexo'].isna().sum(), df_main['sexo'].isna().sum() / df_main.shape[0]"
      ]
    },
    {
      "cell_type": "code",
      "execution_count": 18,
      "metadata": {
        "id": "Gv4k0oWw9A02",
        "outputId": "43f85822-032b-4678-9925-740c57898244"
      },
      "outputs": [
        {
          "data": {
            "text/plain": [
              "(M    69149\n",
              " F    60433\n",
              " Name: sexo, dtype: int64,\n",
              " M    0.533631\n",
              " F    0.466369\n",
              " Name: sexo, dtype: float64)"
            ]
          },
          "execution_count": 18,
          "metadata": {},
          "output_type": "execute_result"
        }
      ],
      "source": [
        "df_main['sexo'].value_counts(), df_main['sexo'].value_counts(normalize=True)"
      ]
    },
    {
      "cell_type": "code",
      "execution_count": 19,
      "metadata": {
        "id": "fjjKgE0k9A03",
        "outputId": "d72b7561-103d-454a-faa5-d7785fc801a7"
      },
      "outputs": [
        {
          "data": {
            "text/html": [
              "<div>\n",
              "<style scoped>\n",
              "    .dataframe tbody tr th:only-of-type {\n",
              "        vertical-align: middle;\n",
              "    }\n",
              "\n",
              "    .dataframe tbody tr th {\n",
              "        vertical-align: top;\n",
              "    }\n",
              "\n",
              "    .dataframe thead th {\n",
              "        text-align: right;\n",
              "    }\n",
              "</style>\n",
              "<table border=\"1\" class=\"dataframe\">\n",
              "  <thead>\n",
              "    <tr style=\"text-align: right;\">\n",
              "      <th></th>\n",
              "      <th>edad_bins</th>\n",
              "      <th>sexo</th>\n",
              "      <th>conteo</th>\n",
              "    </tr>\n",
              "  </thead>\n",
              "  <tbody>\n",
              "    <tr>\n",
              "      <th>0</th>\n",
              "      <td>(0, 5]</td>\n",
              "      <td>F</td>\n",
              "      <td>850</td>\n",
              "    </tr>\n",
              "    <tr>\n",
              "      <th>1</th>\n",
              "      <td>(0, 5]</td>\n",
              "      <td>M</td>\n",
              "      <td>1076</td>\n",
              "    </tr>\n",
              "    <tr>\n",
              "      <th>2</th>\n",
              "      <td>(5, 13]</td>\n",
              "      <td>F</td>\n",
              "      <td>927</td>\n",
              "    </tr>\n",
              "    <tr>\n",
              "      <th>3</th>\n",
              "      <td>(5, 13]</td>\n",
              "      <td>M</td>\n",
              "      <td>1270</td>\n",
              "    </tr>\n",
              "    <tr>\n",
              "      <th>4</th>\n",
              "      <td>(13, 18]</td>\n",
              "      <td>F</td>\n",
              "      <td>1310</td>\n",
              "    </tr>\n",
              "  </tbody>\n",
              "</table>\n",
              "</div>"
            ],
            "text/plain": [
              "  edad_bins sexo  conteo\n",
              "0    (0, 5]    F     850\n",
              "1    (0, 5]    M    1076\n",
              "2   (5, 13]    F     927\n",
              "3   (5, 13]    M    1270\n",
              "4  (13, 18]    F    1310"
            ]
          },
          "execution_count": 19,
          "metadata": {},
          "output_type": "execute_result"
        }
      ],
      "source": [
        "conteo_edad_x_sexo = (df_main[['edad_bins', 'sexo']].dropna() # Seleccion de columna y elimino NaNs\n",
        "                      .groupby(['edad_bins', 'sexo']).size() # Agrupo y cuento las obs. por intervalo de edad y sexo \n",
        "                      .reset_index() # Convierte a df \n",
        "                      .rename({0: 'conteo'}, axis=1)) # Cambia el nombre de \"0\" a \"conteo\"\n",
        "conteo_edad_x_sexo.head()"
      ]
    },
    {
      "cell_type": "code",
      "execution_count": 35,
      "metadata": {
        "id": "JaqGZY8E9A04",
        "outputId": "d3d515e4-9433-40dc-f15c-8dd82653ca29"
      },
      "outputs": [
        {
          "data": {
            "image/png": "[encoded data removed]",
            "text/plain": [
              "<Figure size 408.85x360 with 1 Axes>"
            ]
          },
          "metadata": {
            "needs_background": "light"
          },
          "output_type": "display_data"
        }
      ],
      "source": [
        "# Gráfica de barras de cantidad de personas por intervalo de edad en cada género\n",
        "g = sns.catplot(\n",
        "    data=conteo_edad_x_sexo, kind=\"bar\",\n",
        "    x=\"edad_bins\", y=\"conteo\", hue=\"sexo\",\n",
        ")\n",
        "g.set_xticklabels(rotation=90)\n",
        "plt.show()"
      ]
    },
    {
      "cell_type": "code",
      "execution_count": 21,
      "metadata": {
        "id": "jHt7Y84z9A05",
        "outputId": "d7487ef8-ed9b-419b-d0b5-93dc836ebacf"
      },
      "outputs": [
        {
          "data": {
            "text/html": [
              "<div>\n",
              "<style scoped>\n",
              "    .dataframe tbody tr th:only-of-type {\n",
              "        vertical-align: middle;\n",
              "    }\n",
              "\n",
              "    .dataframe tbody tr th {\n",
              "        vertical-align: top;\n",
              "    }\n",
              "\n",
              "    .dataframe thead th {\n",
              "        text-align: right;\n",
              "    }\n",
              "</style>\n",
              "<table border=\"1\" class=\"dataframe\">\n",
              "  <thead>\n",
              "    <tr style=\"text-align: right;\">\n",
              "      <th></th>\n",
              "      <th>ubigeo_inei_domicilio</th>\n",
              "      <th>dep_domicilio</th>\n",
              "      <th>prov_domicilio</th>\n",
              "      <th>dist_domicilio</th>\n",
              "    </tr>\n",
              "  </thead>\n",
              "  <tbody>\n",
              "    <tr>\n",
              "      <th>0</th>\n",
              "      <td>80101</td>\n",
              "      <td>CUSCO</td>\n",
              "      <td>CUSCO</td>\n",
              "      <td>CUSCO</td>\n",
              "    </tr>\n",
              "    <tr>\n",
              "      <th>1</th>\n",
              "      <td>150101</td>\n",
              "      <td>LIMA</td>\n",
              "      <td>LIMA</td>\n",
              "      <td>LIMA</td>\n",
              "    </tr>\n",
              "    <tr>\n",
              "      <th>2</th>\n",
              "      <td>150801</td>\n",
              "      <td>LIMA</td>\n",
              "      <td>HUAURA</td>\n",
              "      <td>HUACHO</td>\n",
              "    </tr>\n",
              "    <tr>\n",
              "      <th>3</th>\n",
              "      <td>140101</td>\n",
              "      <td>LAMBAYEQUE</td>\n",
              "      <td>CHICLAYO</td>\n",
              "      <td>CHICLAYO</td>\n",
              "    </tr>\n",
              "    <tr>\n",
              "      <th>4</th>\n",
              "      <td>150101</td>\n",
              "      <td>LIMA</td>\n",
              "      <td>LIMA</td>\n",
              "      <td>LIMA</td>\n",
              "    </tr>\n",
              "  </tbody>\n",
              "</table>\n",
              "</div>"
            ],
            "text/plain": [
              "   ubigeo_inei_domicilio dep_domicilio prov_domicilio dist_domicilio\n",
              "0                  80101         CUSCO          CUSCO          CUSCO\n",
              "1                 150101          LIMA           LIMA           LIMA\n",
              "2                 150801          LIMA         HUAURA         HUACHO\n",
              "3                 140101    LAMBAYEQUE       CHICLAYO       CHICLAYO\n",
              "4                 150101          LIMA           LIMA           LIMA"
            ]
          },
          "execution_count": 21,
          "metadata": {},
          "output_type": "execute_result"
        }
      ],
      "source": [
        "geo_vars = ['ubigeo_inei_domicilio', 'dep_domicilio', 'prov_domicilio', 'dist_domicilio']\n",
        "df_main[geo_vars].head()"
      ]
    },
    {
      "cell_type": "code",
      "execution_count": 22,
      "metadata": {
        "id": "sYIT84xY9A06"
      },
      "outputs": [],
      "source": [
        "df_main['ubigeo_inei_domicilio'] = df_main['ubigeo_inei_domicilio'].astype(str)"
      ]
    },
    {
      "cell_type": "code",
      "execution_count": 23,
      "metadata": {
        "id": "ni6nVRKZ9A06",
        "outputId": "d0c6f834-751c-44da-d8d2-6df8498f2d9f"
      },
      "outputs": [
        {
          "data": {
            "text/plain": [
              "ubigeo_inei_domicilio    0\n",
              "dep_domicilio            0\n",
              "prov_domicilio           0\n",
              "dist_domicilio           0\n",
              "dtype: int64"
            ]
          },
          "execution_count": 23,
          "metadata": {},
          "output_type": "execute_result"
        }
      ],
      "source": [
        "# Conteo de valores nulos para varias variables\n",
        "df_main[geo_vars].isna().sum()"
      ]
    },
    {
      "cell_type": "code",
      "execution_count": 24,
      "metadata": {
        "id": "MXM9VOTO9A07",
        "outputId": "8f77e2e2-2f74-4de7-b36c-23d2a1a445d9"
      },
      "outputs": [
        {
          "data": {
            "text/html": [
              "<div>\n",
              "<style scoped>\n",
              "    .dataframe tbody tr th:only-of-type {\n",
              "        vertical-align: middle;\n",
              "    }\n",
              "\n",
              "    .dataframe tbody tr th {\n",
              "        vertical-align: top;\n",
              "    }\n",
              "\n",
              "    .dataframe thead th {\n",
              "        text-align: right;\n",
              "    }\n",
              "</style>\n",
              "<table border=\"1\" class=\"dataframe\">\n",
              "  <thead>\n",
              "    <tr style=\"text-align: right;\">\n",
              "      <th></th>\n",
              "      <th>ubigeo_inei_domicilio</th>\n",
              "      <th>dep_domicilio</th>\n",
              "      <th>prov_domicilio</th>\n",
              "      <th>dist_domicilio</th>\n",
              "    </tr>\n",
              "  </thead>\n",
              "  <tbody>\n",
              "    <tr>\n",
              "      <th>count</th>\n",
              "      <td>136422</td>\n",
              "      <td>136422</td>\n",
              "      <td>136422</td>\n",
              "      <td>136422</td>\n",
              "    </tr>\n",
              "    <tr>\n",
              "      <th>unique</th>\n",
              "      <td>1716</td>\n",
              "      <td>25</td>\n",
              "      <td>196</td>\n",
              "      <td>1580</td>\n",
              "    </tr>\n",
              "    <tr>\n",
              "      <th>top</th>\n",
              "      <td>150142</td>\n",
              "      <td>LIMA</td>\n",
              "      <td>LIMA</td>\n",
              "      <td>VILLA EL SALVADOR</td>\n",
              "    </tr>\n",
              "    <tr>\n",
              "      <th>freq</th>\n",
              "      <td>7156</td>\n",
              "      <td>50719</td>\n",
              "      <td>46309</td>\n",
              "      <td>7156</td>\n",
              "    </tr>\n",
              "  </tbody>\n",
              "</table>\n",
              "</div>"
            ],
            "text/plain": [
              "       ubigeo_inei_domicilio dep_domicilio prov_domicilio     dist_domicilio\n",
              "count                 136422        136422         136422             136422\n",
              "unique                  1716            25            196               1580\n",
              "top                   150142          LIMA           LIMA  VILLA EL SALVADOR\n",
              "freq                    7156         50719          46309               7156"
            ]
          },
          "execution_count": 24,
          "metadata": {},
          "output_type": "execute_result"
        }
      ],
      "source": [
        "df_main[geo_vars].describe()"
      ]
    },
    {
      "cell_type": "code",
      "execution_count": 25,
      "metadata": {
        "id": "6GYtTITP9A07"
      },
      "outputs": [],
      "source": [
        "import geopandas as gpd"
      ]
    },
    {
      "cell_type": "code",
      "execution_count": 26,
      "metadata": {
        "id": "YISPtjW39A07"
      },
      "outputs": [],
      "source": [
        "gdf_deps = gpd.read_file('../data/LIMITE_DEPARTAMENTAL.zip')\n",
        "gdf_provs = gpd.read_file('../data/LIMITE_PROVINCIAL.zip')\n",
        "gdf_dists = gpd.read_file('../data/LIMITE_DISTRITAL.zip')"
      ]
    },
    {
      "cell_type": "code",
      "execution_count": 36,
      "metadata": {
        "id": "vGW15XdW9A07",
        "outputId": "613e0f51-bfdc-4425-b7a2-6860d04ad566"
      },
      "outputs": [
        {
          "data": {
            "text/plain": [
              "<AxesSubplot:>"
            ]
          },
          "execution_count": 36,
          "metadata": {},
          "output_type": "execute_result"
        },
        {
          "data": {
            "image/png": "[encoded data removed]",
            "text/plain": [
              "<Figure size 1080x360 with 3 Axes>"
            ]
          },
          "metadata": {
            "needs_background": "light"
          },
          "output_type": "display_data"
        }
      ],
      "source": [
        "fig, (ax1, ax2, ax3) = plt.subplots(nrows=1, ncols=3,\n",
        "                                    figsize=(15, 5))\n",
        "\n",
        "gdf_deps.plot(ax=ax1)\n",
        "gdf_provs.plot(linewidth=0.5, ax=ax2)\n",
        "gdf_dists.plot(linewidth=0.1, ax=ax3)"
      ]
    },
    {
      "cell_type": "code",
      "execution_count": 28,
      "metadata": {
        "id": "-9sHgMqu9A08"
      },
      "outputs": [
        {
          "data": {
            "text/plain": [
              "True"
            ]
          },
          "execution_count": 28,
          "metadata": {},
          "output_type": "execute_result"
        }
      ],
      "source": [
        "# VALIDAMOS QUE LOS NOMBRES DE DEPARTAMENTOS\n",
        "# EN LOS DOS DATASETS SEAN IGUALES\n",
        "df_unique_dep = df_main['dep_domicilio'].unique()\n",
        "df_unique_dep.sort()\n",
        "\n",
        "gdf_unique_dep = gdf_deps['NOMBDEP'].unique()\n",
        "gdf_unique_dep.sort()\n",
        "\n",
        "(df_unique_dep == gdf_unique_dep).all() # True\n"
      ]
    },
    {
      "cell_type": "code",
      "execution_count": 29,
      "metadata": {
        "id": "ThZw77hQ9A08",
        "outputId": "799455d1-97ef-4138-93ba-4f6df10355d4"
      },
      "outputs": [
        {
          "data": {
            "text/html": [
              "<div>\n",
              "<style scoped>\n",
              "    .dataframe tbody tr th:only-of-type {\n",
              "        vertical-align: middle;\n",
              "    }\n",
              "\n",
              "    .dataframe tbody tr th {\n",
              "        vertical-align: top;\n",
              "    }\n",
              "\n",
              "    .dataframe thead th {\n",
              "        text-align: right;\n",
              "    }\n",
              "</style>\n",
              "<table border=\"1\" class=\"dataframe\">\n",
              "  <thead>\n",
              "    <tr style=\"text-align: right;\">\n",
              "      <th></th>\n",
              "      <th>index</th>\n",
              "      <th>dep_domicilio</th>\n",
              "    </tr>\n",
              "  </thead>\n",
              "  <tbody>\n",
              "    <tr>\n",
              "      <th>0</th>\n",
              "      <td>LIMA</td>\n",
              "      <td>50719</td>\n",
              "    </tr>\n",
              "    <tr>\n",
              "      <th>1</th>\n",
              "      <td>ANCASH</td>\n",
              "      <td>11753</td>\n",
              "    </tr>\n",
              "    <tr>\n",
              "      <th>2</th>\n",
              "      <td>CUSCO</td>\n",
              "      <td>10952</td>\n",
              "    </tr>\n",
              "    <tr>\n",
              "      <th>3</th>\n",
              "      <td>CAJAMARCA</td>\n",
              "      <td>8584</td>\n",
              "    </tr>\n",
              "    <tr>\n",
              "      <th>4</th>\n",
              "      <td>PIURA</td>\n",
              "      <td>7909</td>\n",
              "    </tr>\n",
              "  </tbody>\n",
              "</table>\n",
              "</div>"
            ],
            "text/plain": [
              "       index  dep_domicilio\n",
              "0       LIMA          50719\n",
              "1     ANCASH          11753\n",
              "2      CUSCO          10952\n",
              "3  CAJAMARCA           8584\n",
              "4      PIURA           7909"
            ]
          },
          "execution_count": 29,
          "metadata": {},
          "output_type": "execute_result"
        }
      ],
      "source": [
        "# Contamos la cantidad de hospitalizados por departamento\n",
        "conteo_x_dept = df_main['dep_domicilio'].value_counts()\n",
        "conteo_x_dept = conteo_x_dept.reset_index()\n",
        "conteo_x_dept.head()"
      ]
    },
    {
      "cell_type": "code",
      "execution_count": 30,
      "metadata": {
        "id": "bvgzrb4Y9A09"
      },
      "outputs": [],
      "source": [
        "# Unimos los conteos utilizando los nombres de departamentos\n",
        "gdf_conteo_x_dept = pd.merge(left=gdf_deps, right=conteo_x_dept, \n",
        "                             left_on=\"NOMBDEP\", right_on='index')"
      ]
    },
    {
      "cell_type": "code",
      "execution_count": 38,
      "metadata": {
        "id": "0E5Ghoen9A09",
        "outputId": "6932c053-2a64-4927-a629-ff159493c1d6"
      },
      "outputs": [
        {
          "data": {
            "text/plain": [
              "<AxesSubplot:>"
            ]
          },
          "execution_count": 38,
          "metadata": {},
          "output_type": "execute_result"
        },
        {
          "data": {
            "image/png": "[encoded data removed]",
            "text/plain": [
              "<Figure size 432x288 with 2 Axes>"
            ]
          },
          "metadata": {
            "needs_background": "light"
          },
          "output_type": "display_data"
        }
      ],
      "source": [
        "# Mapa de calor de # de hospitalizados x departamento\n",
        "gdf_conteo_x_dept.plot(\"dep_domicilio\", cmap='viridis',\n",
        "                       legend=True)"
      ]
    },
    {
      "cell_type": "code",
      "execution_count": 32,
      "metadata": {
        "id": "eYnON7uj9A09"
      },
      "outputs": [],
      "source": [
        "# 1 punto mas para Evelyn!"
      ]
    },
    {
      "cell_type": "markdown",
      "metadata": {},
      "source": [
        "## Correlación\n",
        "\n",
        "Es el valor numérico que describe la relación (directa o inversa) entre 2 variables."
      ]
    },
    {
      "cell_type": "code",
      "execution_count": 70,
      "metadata": {},
      "outputs": [],
      "source": [
        "# Construir variable tiempo de hospitalizacion por covid\n",
        "df_main['fecha_ingreso_hosp_dt'] = pd.to_datetime(df_main['fecha_ingreso_hosp'], format=\"%d/%m/%Y\")\n",
        "df_main['fecha_segumiento_hosp_ultimo_dt'] = pd.to_datetime(df_main['fecha_segumiento_hosp_ultimo'], format=\"%d/%m/%Y\")"
      ]
    },
    {
      "cell_type": "code",
      "execution_count": 71,
      "metadata": {},
      "outputs": [
        {
          "data": {
            "text/plain": [
              "0    9 days\n",
              "1    8 days\n",
              "2   38 days\n",
              "3    7 days\n",
              "4    4 days\n",
              "dtype: timedelta64[ns]"
            ]
          },
          "execution_count": 71,
          "metadata": {},
          "output_type": "execute_result"
        }
      ],
      "source": [
        "dias_hosp = df_main['fecha_segumiento_hosp_ultimo_dt'] - df_main['fecha_ingreso_hosp_dt']\n",
        "dias_hosp.head()"
      ]
    },
    {
      "cell_type": "code",
      "execution_count": 72,
      "metadata": {},
      "outputs": [],
      "source": [
        "# De segundos a dias\n",
        "dias_hosp = dias_hosp.dt.total_seconds() / 60 / 60 / 24"
      ]
    },
    {
      "cell_type": "code",
      "execution_count": 77,
      "metadata": {},
      "outputs": [],
      "source": [
        "df_main['dias_delta_hosp'] = dias_hosp"
      ]
    },
    {
      "cell_type": "code",
      "execution_count": 79,
      "metadata": {},
      "outputs": [
        {
          "data": {
            "text/plain": [
              "0.13190281441847826"
            ]
          },
          "execution_count": 79,
          "metadata": {},
          "output_type": "execute_result"
        }
      ],
      "source": [
        "df_main['dias_delta_hosp'].corr(df_main['edad'])"
      ]
    },
    {
      "cell_type": "code",
      "execution_count": 80,
      "metadata": {},
      "outputs": [
        {
          "data": {
            "text/plain": [
              "<matplotlib.collections.PathCollection at 0x136990520>"
            ]
          },
          "execution_count": 80,
          "metadata": {},
          "output_type": "execute_result"
        },
        {
          "data": {
            "image/png": "[encoded data removed]",
            "text/plain": [
              "<Figure size 432x288 with 1 Axes>"
            ]
          },
          "metadata": {
            "needs_background": "light"
          },
          "output_type": "display_data"
        }
      ],
      "source": [
        "plt.scatter(x=df_main['dias_delta_hosp'], y=df_main['edad'])"
      ]
    },
    {
      "cell_type": "code",
      "execution_count": 91,
      "metadata": {},
      "outputs": [],
      "source": [
        "corr_matrix_var = ['edad', 'flag_uci', 'cdc_positividad',\n",
        " 'cdc_fallecido_covid', 'dias_delta_hosp']"
      ]
    },
    {
      "cell_type": "code",
      "execution_count": 92,
      "metadata": {},
      "outputs": [
        {
          "data": {
            "text/plain": [
              "5"
            ]
          },
          "execution_count": 92,
          "metadata": {},
          "output_type": "execute_result"
        }
      ],
      "source": [
        "len(corr_matrix_var)"
      ]
    },
    {
      "cell_type": "code",
      "execution_count": 94,
      "metadata": {},
      "outputs": [
        {
          "data": {
            "text/html": [
              "<div>\n",
              "<style scoped>\n",
              "    .dataframe tbody tr th:only-of-type {\n",
              "        vertical-align: middle;\n",
              "    }\n",
              "\n",
              "    .dataframe tbody tr th {\n",
              "        vertical-align: top;\n",
              "    }\n",
              "\n",
              "    .dataframe thead th {\n",
              "        text-align: right;\n",
              "    }\n",
              "</style>\n",
              "<table border=\"1\" class=\"dataframe\">\n",
              "  <thead>\n",
              "    <tr style=\"text-align: right;\">\n",
              "      <th></th>\n",
              "      <th>edad</th>\n",
              "      <th>flag_uci</th>\n",
              "      <th>cdc_positividad</th>\n",
              "      <th>cdc_fallecido_covid</th>\n",
              "      <th>dias_delta_hosp</th>\n",
              "    </tr>\n",
              "  </thead>\n",
              "  <tbody>\n",
              "    <tr>\n",
              "      <th>edad</th>\n",
              "      <td>1.000000</td>\n",
              "      <td>0.031786</td>\n",
              "      <td>0.121101</td>\n",
              "      <td>0.418936</td>\n",
              "      <td>0.131903</td>\n",
              "    </tr>\n",
              "    <tr>\n",
              "      <th>flag_uci</th>\n",
              "      <td>0.031786</td>\n",
              "      <td>1.000000</td>\n",
              "      <td>0.042261</td>\n",
              "      <td>0.103393</td>\n",
              "      <td>0.316679</td>\n",
              "    </tr>\n",
              "    <tr>\n",
              "      <th>cdc_positividad</th>\n",
              "      <td>0.121101</td>\n",
              "      <td>0.042261</td>\n",
              "      <td>1.000000</td>\n",
              "      <td>0.091382</td>\n",
              "      <td>0.096393</td>\n",
              "    </tr>\n",
              "    <tr>\n",
              "      <th>cdc_fallecido_covid</th>\n",
              "      <td>0.418936</td>\n",
              "      <td>0.103393</td>\n",
              "      <td>0.091382</td>\n",
              "      <td>1.000000</td>\n",
              "      <td>-0.028707</td>\n",
              "    </tr>\n",
              "    <tr>\n",
              "      <th>dias_delta_hosp</th>\n",
              "      <td>0.131903</td>\n",
              "      <td>0.316679</td>\n",
              "      <td>0.096393</td>\n",
              "      <td>-0.028707</td>\n",
              "      <td>1.000000</td>\n",
              "    </tr>\n",
              "  </tbody>\n",
              "</table>\n",
              "</div>"
            ],
            "text/plain": [
              "                         edad  flag_uci  cdc_positividad  cdc_fallecido_covid  \\\n",
              "edad                 1.000000  0.031786         0.121101             0.418936   \n",
              "flag_uci             0.031786  1.000000         0.042261             0.103393   \n",
              "cdc_positividad      0.121101  0.042261         1.000000             0.091382   \n",
              "cdc_fallecido_covid  0.418936  0.103393         0.091382             1.000000   \n",
              "dias_delta_hosp      0.131903  0.316679         0.096393            -0.028707   \n",
              "\n",
              "                     dias_delta_hosp  \n",
              "edad                        0.131903  \n",
              "flag_uci                    0.316679  \n",
              "cdc_positividad             0.096393  \n",
              "cdc_fallecido_covid        -0.028707  \n",
              "dias_delta_hosp             1.000000  "
            ]
          },
          "execution_count": 94,
          "metadata": {},
          "output_type": "execute_result"
        }
      ],
      "source": [
        "corr_matrix  = df_main[corr_matrix_var].corr()\n",
        "corr_matrix"
      ]
    },
    {
      "cell_type": "code",
      "execution_count": 122,
      "metadata": {},
      "outputs": [
        {
          "name": "stderr",
          "output_type": "stream",
          "text": [
            "/var/folders/kb/8rst2bm96jq7g3ykfrtw15zc0000gp/T/ipykernel_10824/2953519811.py:9: MatplotlibDeprecationWarning: Auto-removal of grids by pcolor() and pcolormesh() is deprecated since 3.5 and will be removed two minor releases later; please call grid(False) first.\n",
            "  fig.colorbar(pos, ax=ax1) # Agregar un barra de colores como leyenda\n"
          ]
        },
        {
          "data": {
            "image/png": "[encoded data removed]",
            "text/plain": [
              "<Figure size 936x216 with 2 Axes>"
            ]
          },
          "metadata": {
            "needs_background": "light"
          },
          "output_type": "display_data"
        }
      ],
      "source": [
        "fig, ax1 = plt.subplots(ncols=1, nrows=1, figsize=(13, 3))\n",
        "pos = ax1.matshow(corr_matrix, cmap='coolwarm', vmin=-1, vmax=1)\n",
        "\n",
        "# Colocar nombres de variables en los ejes\n",
        "plt.xticks(np.arange(corr_matrix.shape[0]), corr_matrix.columns, rotation=90)\n",
        "plt.yticks(np.arange(corr_matrix.shape[0]), corr_matrix.columns)\n",
        "\n",
        "plt.grid(False) # Eliminar lineas dentro del grafico\n",
        "fig.colorbar(pos, ax=ax1) # Agregar un barra de colores como leyenda\n",
        "\n",
        "plt.show()"
      ]
    },
    {
      "cell_type": "markdown",
      "metadata": {},
      "source": [
        "## Preparación: Antes del EDA \n",
        "\n",
        "1. Seleccionar las variables a analizar (que sean relevantes para el estudio)\n",
        "2. Verificar la integridad de las variables (si estan limpias o que debemos hacer para limpiarlas o no se pueden)\n",
        "3. Plantearse preguntas de exploracion\n",
        "4. Plantear hipotesis a partir de nuestras variables*\n",
        "\n",
        "## EDA \n",
        "\n",
        "5. Limpiar los datos (80%)\n",
        "6. Responder las preguntas de exploracion a partir de los datos (indicadores y graficas)\n",
        "7. Responder las hipotesis (Tests estadisticos | estadistica descriptiva)*\n",
        "8. Generar un Reporte para el publico en general \n",
        "\n",
        "> * Pasos opcionales dependiendo de la experiencia en el area de analisis"
      ]
    },
    {
      "cell_type": "markdown",
      "metadata": {},
      "source": []
    }
  ],
  "metadata": {
    "colab": {
      "include_colab_link": true,
      "name": "eda.ipynb",
      "provenance": []
    },
    "interpreter": {
      "hash": "0c9bd66ba379a9ecd4961e2d6396edd05cc5d484d536b9e611dbcc75c24ec371"
    },
    "kernelspec": {
      "display_name": "Python 3.9.5 64-bit ('wordcloudenv')",
      "language": "python",
      "name": "python3"
    },
    "language_info": {
      "codemirror_mode": {
        "name": "ipython",
        "version": 3
      },
      "file_extension": ".py",
      "mimetype": "text/x-python",
      "name": "python",
      "nbconvert_exporter": "python",
      "pygments_lexer": "ipython3",
      "version": "3.9.5"
    },
    "orig_nbformat": 4
  },
  "nbformat": 4,
  "nbformat_minor": 0
}
